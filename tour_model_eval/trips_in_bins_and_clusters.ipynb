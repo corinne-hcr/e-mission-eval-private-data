{
 "cells": [
  {
   "cell_type": "code",
   "execution_count": null,
   "id": "mental-retail",
   "metadata": {},
   "outputs": [],
   "source": [
    "import matplotlib\n",
    "import matplotlib.pyplot as plt\n",
    "import numpy\n",
    "import emission.core.get_database as edb\n",
    "import logging\n",
    "import folium\n",
    "import math\n",
    "import branca.colormap as cm\n",
    "import emission.storage.timeseries.abstract_timeseries as esta\n",
    "import emission.analysis.modelling.tour_model.cluster_pipeline as eamtc\n",
    "import emission.analysis.modelling.tour_model.similarity as similarity\n",
    "import emission.analysis.modelling.tour_model.cluster_pipeline as pipeline\n",
    "import emission.analysis.modelling.tour_model.featurization as featurization"
   ]
  },
  {
   "cell_type": "code",
   "execution_count": null,
   "id": "adaptive-supplement",
   "metadata": {},
   "outputs": [],
   "source": [
    "logger = logging.getLogger()\n",
    "logger.setLevel(logging.DEBUG)"
   ]
  },
  {
   "cell_type": "code",
   "execution_count": null,
   "id": "combined-magazine",
   "metadata": {},
   "outputs": [],
   "source": [
    "# copied from mode_purpose_share.ipynb\n",
    "# We select participants from real data to be users at this time\n",
    "participant_uuid_obj = list(edb.get_profile_db().find({\"install_group\": \"participant\"}, {\"user_id\": 1, \"_id\": 0}))\n",
    "all_users = [u[\"user_id\"] for u in participant_uuid_obj]"
   ]
  },
  {
   "cell_type": "code",
   "execution_count": null,
   "id": "hollow-prefix",
   "metadata": {},
   "outputs": [],
   "source": [
    "logging.debug('There are %s users, we will plot the graphs for one of them' % len(all_users))\n",
    "\n",
    "user = all_users[1]"
   ]
  },
  {
   "cell_type": "code",
   "execution_count": null,
   "id": "finnish-istanbul",
   "metadata": {},
   "outputs": [],
   "source": [
    "# we should experiment with different values here\n",
    "radius = 300"
   ]
  },
  {
   "cell_type": "code",
   "execution_count": null,
   "id": "dependent-machinery",
   "metadata": {
    "scrolled": false
   },
   "outputs": [],
   "source": [
    "trips = pipeline.read_data(uuid=user)"
   ]
  },
  {
   "cell_type": "markdown",
   "id": "steady-consultation",
   "metadata": {},
   "source": [
    "Note: Run trips on all data and trips in bins/clusters above cutoff point separately "
   ]
  },
  {
   "cell_type": "markdown",
   "id": "exotic-timing",
   "metadata": {},
   "source": [
    "## Visualizing trips from bins"
   ]
  },
  {
   "cell_type": "markdown",
   "id": "recovered-peoples",
   "metadata": {},
   "source": [
    "### Trips from all bins"
   ]
  },
  {
   "cell_type": "code",
   "execution_count": null,
   "id": "ultimate-bottom",
   "metadata": {
    "scrolled": true
   },
   "outputs": [],
   "source": [
    "sim = similarity.similarity(trips, radius)\n",
    "sim.bin_data()"
   ]
  },
  {
   "cell_type": "code",
   "execution_count": null,
   "id": "amino-particular",
   "metadata": {
    "scrolled": true
   },
   "outputs": [],
   "source": [
    "logging.debug('There are %s bins before filtering' % len(sim.bins))"
   ]
  },
  {
   "cell_type": "code",
   "execution_count": null,
   "id": "reasonable-sharp",
   "metadata": {
    "scrolled": false
   },
   "outputs": [],
   "source": [
    "#Create colormap for all bins\n",
    "cmp_all_bins = cm.linear.Set1_07.to_step(len(sim.bins),index=[i for i in range (len(sim.bins))])\n",
    "cmp_all_bins"
   ]
  },
  {
   "cell_type": "code",
   "execution_count": null,
   "id": "incorporated-plymouth",
   "metadata": {},
   "outputs": [],
   "source": [
    "# Plot all the bin trips on the map, use different color for different bins.\n",
    "m = folium.Map(location=[trips[0].data.start_loc[\"coordinates\"][1], trips[0].data.start_loc[\"coordinates\"][0]],zoom_start=12, max_zoom= 30, control_scale=True)\n",
    "for t in range (len(sim.bins)):    \n",
    "    for i in range (len(sim.bins[t])):\n",
    "        layer = folium.PolyLine([[trips[sim.bins[t][i]].data.start_loc[\"coordinates\"][1],trips[sim.bins[t][i]].data.start_loc[\"coordinates\"][0]],\n",
    "                                [trips[sim.bins[t][i]].data.end_loc[\"coordinates\"][1],trips[sim.bins[t][i]].data.end_loc[\"coordinates\"][0]]],weight=2, \n",
    "                                color=cmp_all_bins(t))\n",
    "        layer.add_to(m)\n",
    "m.add_child(cmp_all_bins)     \n",
    "m"
   ]
  },
  {
   "cell_type": "markdown",
   "id": "better-continent",
   "metadata": {},
   "source": [
    "### Trips from bins above the cutoff only"
   ]
  },
  {
   "cell_type": "code",
   "execution_count": null,
   "id": "round-death",
   "metadata": {
    "scrolled": true
   },
   "outputs": [],
   "source": [
    "bin_trips, bins = pipeline.remove_noise(trips, radius)"
   ]
  },
  {
   "cell_type": "code",
   "execution_count": null,
   "id": "disciplinary-provincial",
   "metadata": {
    "scrolled": false
   },
   "outputs": [],
   "source": [
    "logging.debug('The list of bins is %s' % bins)"
   ]
  },
  {
   "cell_type": "code",
   "execution_count": null,
   "id": "endangered-marble",
   "metadata": {},
   "outputs": [],
   "source": [
    "cmp_cutoff = cm.linear.Set1_07.to_step(len(bins),index=[i for i in range (len(bins))])\n",
    "cmp_cutoff"
   ]
  },
  {
   "cell_type": "code",
   "execution_count": null,
   "id": "published-austria",
   "metadata": {
    "scrolled": true
   },
   "outputs": [],
   "source": [
    "# Plot the bin trips above the cutoff point on the map, use different color for different bins.\n",
    "m = folium.Map(location=[bin_trips[0].data.start_loc[\"coordinates\"][1], bin_trips[0].data.start_loc[\"coordinates\"][0]],zoom_start=12, max_zoom= 30, control_scale=True)\n",
    "t_index = 0\n",
    "for t in range (len(bins)):    \n",
    "    for i in range (len(bins[t])):\n",
    "        layer = folium.PolyLine([[bin_trips[t_index].data.start_loc[\"coordinates\"][1],bin_trips[t_index].data.start_loc[\"coordinates\"][0]],\n",
    "                                [bin_trips[t_index].data.end_loc[\"coordinates\"][1],bin_trips[t_index].data.end_loc[\"coordinates\"][0]]],weight=2, \n",
    "                                color=cmp_cutoff(t))\n",
    "        t_index += 1\n",
    "        layer.add_to(m)\n",
    "m.add_child(cmp_cutoff)\n",
    "        \n",
    "m"
   ]
  },
  {
   "cell_type": "markdown",
   "id": "latest-impact",
   "metadata": {},
   "source": [
    "## Visualizing clusters"
   ]
  },
  {
   "cell_type": "markdown",
   "id": "angry-harvest",
   "metadata": {},
   "source": [
    "### on all data"
   ]
  },
  {
   "cell_type": "markdown",
   "id": "muslim-covering",
   "metadata": {},
   "source": [
    "Note: should run \"Trips from all bins\" first"
   ]
  },
  {
   "cell_type": "code",
   "execution_count": null,
   "id": "corresponding-silly",
   "metadata": {
    "scrolled": true
   },
   "outputs": [],
   "source": [
    "# copied from the cluster pipeline code so we can work with the featurization code directly\n",
    "feat = featurization.featurization(trips)\n",
    "min = 0\n",
    "max = int(math.ceil(1.5 * len(sim.bins)))\n",
    "feat.cluster(min_clusters=min, max_clusters=max)"
   ]
  },
  {
   "cell_type": "code",
   "execution_count": null,
   "id": "together-motivation",
   "metadata": {},
   "outputs": [],
   "source": [
    "logging.debug('number of clusters: %d' % feat.clusters)"
   ]
  },
  {
   "cell_type": "code",
   "execution_count": null,
   "id": "parliamentary-passing",
   "metadata": {},
   "outputs": [],
   "source": [
    "#labels have to be in order in the colormap index\n",
    "labels_clt = feat.labels\n",
    "labels_clt = list(set(sorted(labels_clt)))\n",
    "labels_clt"
   ]
  },
  {
   "cell_type": "code",
   "execution_count": null,
   "id": "compact-september",
   "metadata": {
    "scrolled": true
   },
   "outputs": [],
   "source": [
    "cmp_all_clusters = cm.linear.Set1_07.to_step((feat.clusters),index=[i for i in labels_clt])\n",
    "cmp_all_clusters"
   ]
  },
  {
   "cell_type": "code",
   "execution_count": null,
   "id": "opponent-purse",
   "metadata": {},
   "outputs": [],
   "source": [
    "#Plot all clusters with different colors on the map\n",
    "\n",
    "cluster_all = folium.Map(location=[feat.points[0][1], feat.points[0][0]],zoom_start=12, max_zoom= 30, control_scale=True)\n",
    "\n",
    "print(feat.labels)\n",
    "if feat.labels:             \n",
    "    for i in range(len(feat.points)):\n",
    "        start_lat = feat.points[i][1]\n",
    "        start_lon = feat.points[i][0]\n",
    "        end_lat = feat.points[i][3]\n",
    "        end_lon = feat.points[i][2]\n",
    "        layer = folium.PolyLine([[start_lat,start_lon],\n",
    "                                 [end_lat,end_lon]],weight=2, color=cmp_all_clusters(feat.labels[i]))\n",
    "        layer.add_to(cluster_all)\n",
    "cluster_all.add_child(cmp_all_clusters)    \n",
    "cluster_all"
   ]
  },
  {
   "cell_type": "markdown",
   "id": "japanese-driver",
   "metadata": {},
   "source": [
    "### above the cutoff only"
   ]
  },
  {
   "cell_type": "markdown",
   "id": "second-badge",
   "metadata": {},
   "source": [
    "Note: should run \"Trips from bins above the cutoff only\" first"
   ]
  },
  {
   "cell_type": "code",
   "execution_count": null,
   "id": "lightweight-plaintiff",
   "metadata": {
    "scrolled": false
   },
   "outputs": [],
   "source": [
    "# copied from the cluster pipeline code so we can work with the featurization code directly\n",
    "# min clusters set to 0 instead of len(bins), to compare with the bins\n",
    "feat = featurization.featurization(bin_trips)\n",
    "min = 0\n",
    "max = int(math.ceil(1.5 * len(bins)))\n",
    "feat.cluster(min_clusters=min, max_clusters=max)"
   ]
  },
  {
   "cell_type": "code",
   "execution_count": null,
   "id": "technical-victoria",
   "metadata": {},
   "outputs": [],
   "source": [
    "logging.debug('number of clusters: %d' % feat.clusters)"
   ]
  },
  {
   "cell_type": "code",
   "execution_count": null,
   "id": "young-pottery",
   "metadata": {},
   "outputs": [],
   "source": [
    "#labels have to be in order in the colormap index\n",
    "labels_clt = feat.labels\n",
    "labels_clt = list(set(sorted(labels_clt)))\n",
    "labels_clt"
   ]
  },
  {
   "cell_type": "code",
   "execution_count": null,
   "id": "western-fourth",
   "metadata": {},
   "outputs": [],
   "source": [
    "cmp_clusters_cutoff = cm.linear.Set1_07.to_step((feat.clusters),index=[i for i in labels_clt])\n",
    "cmp_clusters_cutoff"
   ]
  },
  {
   "cell_type": "code",
   "execution_count": null,
   "id": "undefined-society",
   "metadata": {
    "scrolled": true
   },
   "outputs": [],
   "source": [
    "#Plot the clusters above the cutoff only with different colors,to see if the algorithm wrongly puts different trips into the same cluster\n",
    "cluster_cutoff = folium.Map(location=[feat.points[0][1], feat.points[0][0]],zoom_start=12, max_zoom= 30, control_scale=True)\n",
    "\n",
    "print(feat.labels)\n",
    "if feat.labels:             \n",
    "    for i in range(len(feat.points)):\n",
    "        start_lat = feat.points[i][1]\n",
    "        start_lon = feat.points[i][0]\n",
    "        end_lat = feat.points[i][3]\n",
    "        end_lon = feat.points[i][2]\n",
    "        layer = folium.PolyLine([[start_lat,start_lon],\n",
    "                                 [end_lat,end_lon]],weight=2, color=cmp_clusters_cutoff(feat.labels[i]))\n",
    "        layer.add_to(cluster_cutoff)\n",
    "cluster_cutoff.add_child(cmp_clusters_cutoff)    \n",
    "cluster_cutoff"
   ]
  },
  {
   "cell_type": "markdown",
   "id": "cloudy-language",
   "metadata": {},
   "source": [
    "## Visualizing the difference between bins and clusters above cutoff "
   ]
  },
  {
   "cell_type": "markdown",
   "id": "greenhouse-roberts",
   "metadata": {},
   "source": [
    "Note: this part can be run alone, after importing packages"
   ]
  },
  {
   "cell_type": "code",
   "execution_count": null,
   "id": "forced-gasoline",
   "metadata": {},
   "outputs": [],
   "source": [
    "logger = logging.getLogger()\n",
    "logger.setLevel(logging.DEBUG)\n",
    "participant_uuid_obj = list(edb.get_profile_db().find({\"install_group\": \"participant\"}, {\"user_id\": 1, \"_id\": 0}))\n",
    "all_users = [u[\"user_id\"] for u in participant_uuid_obj]\n",
    "radius = 300"
   ]
  },
  {
   "cell_type": "code",
   "execution_count": null,
   "id": "second-instrumentation",
   "metadata": {},
   "outputs": [],
   "source": [
    "# We use user11 as an example\n",
    "#-above cutoff only\n",
    "#DEBUG:root:number of bins after filtering: 14\n",
    "#DEBUG:root:number of clusters: 8"
   ]
  },
  {
   "cell_type": "code",
   "execution_count": null,
   "id": "tired-resource",
   "metadata": {
    "scrolled": false
   },
   "outputs": [],
   "source": [
    "user = all_users[10]\n",
    "trips = pipeline.read_data(uuid=user)"
   ]
  },
  {
   "cell_type": "markdown",
   "id": "devoted-sewing",
   "metadata": {},
   "source": [
    "### Trips from filtered bins"
   ]
  },
  {
   "cell_type": "code",
   "execution_count": null,
   "id": "amazing-automation",
   "metadata": {},
   "outputs": [],
   "source": [
    "#Show the list of bins from user11 for convenience\n",
    "\n",
    "#DEBUG:root:The list of bins is [[12, 22, 49, 51, 53, 63, 72, 175], [13, 25, 38, 54, 73, 139, 144], \n",
    "#                                [24, 35, 37, 90, 127, 143, 172], [7, 17, 27, 29, 118, 165], \n",
    "#                                [78, 111, 133, 150, 201], [8, 28, 119, 166], [23, 36, 52, 126], \n",
    "#                                [32, 87, 132, 146], [56, 92, 97, 117], [112, 134, 151, 202], [113, 182, 189, 195],\n",
    "#                                [26, 140, 145], [50, 62, 64], [131, 154, 161]]"
   ]
  },
  {
   "cell_type": "code",
   "execution_count": null,
   "id": "liquid-candy",
   "metadata": {
    "scrolled": true
   },
   "outputs": [],
   "source": [
    "bin_trips, bins = pipeline.remove_noise(trips, radius)\n",
    "logging.debug('The list of bins is %s' % bins)"
   ]
  },
  {
   "cell_type": "code",
   "execution_count": null,
   "id": "single-focus",
   "metadata": {},
   "outputs": [],
   "source": [
    "cmp_cutoff = cm.linear.Set1_07.to_step(len(bins),index=[i for i in range (len(bins))])\n",
    "cmp_cutoff"
   ]
  },
  {
   "cell_type": "code",
   "execution_count": null,
   "id": "multiple-sperm",
   "metadata": {
    "scrolled": true
   },
   "outputs": [],
   "source": [
    "# Plot trips in the same bin\n",
    "m = folium.Map(location=[bin_trips[0].data.start_loc[\"coordinates\"][1], bin_trips[0].data.start_loc[\"coordinates\"][0]],zoom_start=12, max_zoom= 30, control_scale=True)\n",
    "t_index = 0\n",
    "\n",
    "# Here we to choose a specific bin\n",
    "for t in range (12,14):    \n",
    "    for i in range (len(bins[t])):\n",
    "        layer = folium.PolyLine([[bin_trips[t_index].data.start_loc[\"coordinates\"][1],bin_trips[t_index].data.start_loc[\"coordinates\"][0]],\n",
    "                                [bin_trips[t_index].data.end_loc[\"coordinates\"][1],bin_trips[t_index].data.end_loc[\"coordinates\"][0]]],weight=2, \n",
    "                                color=cmp_cutoff(t))\n",
    "        t_index += 1\n",
    "        layer.add_to(m)\n",
    "m.add_child(cmp_cutoff)\n",
    "        \n",
    "m"
   ]
  },
  {
   "cell_type": "markdown",
   "id": "powerful-package",
   "metadata": {},
   "source": [
    "### Trips in clusters"
   ]
  },
  {
   "cell_type": "code",
   "execution_count": null,
   "id": "interim-transport",
   "metadata": {
    "scrolled": true
   },
   "outputs": [],
   "source": [
    "bin_trips, bins = pipeline.remove_noise(trips, radius)"
   ]
  },
  {
   "cell_type": "code",
   "execution_count": null,
   "id": "liberal-museum",
   "metadata": {
    "scrolled": false
   },
   "outputs": [],
   "source": [
    "feat = featurization.featurization(bin_trips)\n",
    "min = 0\n",
    "max = int(math.ceil(1.5 * len(bins)))\n",
    "feat.cluster(min_clusters=min, max_clusters=max)\n",
    "logging.debug('number of clusters: %d' % feat.clusters)"
   ]
  },
  {
   "cell_type": "code",
   "execution_count": null,
   "id": "finite-anthropology",
   "metadata": {},
   "outputs": [],
   "source": [
    "labels_clt = feat.labels\n",
    "labels_clt = list(set(sorted(labels_clt)))\n",
    "labels_clt"
   ]
  },
  {
   "cell_type": "code",
   "execution_count": null,
   "id": "tender-clinton",
   "metadata": {},
   "outputs": [],
   "source": [
    "cmp_clusters_cutoff = cm.linear.Set1_07.to_step((feat.clusters),index=[i for i in labels_clt])\n",
    "cmp_clusters_cutoff"
   ]
  },
  {
   "cell_type": "code",
   "execution_count": null,
   "id": "focused-silly",
   "metadata": {},
   "outputs": [],
   "source": [
    "# Plot trips in the same cluster\n",
    "cluster_cutoff = folium.Map(location=[feat.points[0][1], feat.points[0][0]],zoom_start=12, max_zoom= 30, control_scale=True)\n",
    "\n",
    "print(feat.labels)\n",
    "if feat.labels:             \n",
    "    for i in range(len(feat.points)):\n",
    "        \n",
    "        # Here we can choose a specific cluster to plot\n",
    "        if feat.labels[i]==7:\n",
    "            start_lat = feat.points[i][1]\n",
    "            start_lon = feat.points[i][0]\n",
    "            end_lat = feat.points[i][3]\n",
    "            end_lon = feat.points[i][2]\n",
    "            layer = folium.PolyLine([[start_lat,start_lon],\n",
    "                                     [end_lat,end_lon]],weight=2, color=cmp_clusters_cutoff(feat.labels[i]))\n",
    "            layer.add_to(cluster_cutoff)\n",
    "cluster_cutoff.add_child(cmp_clusters_cutoff)    \n",
    "cluster_cutoff"
   ]
  },
  {
   "cell_type": "markdown",
   "id": "planned-cheat",
   "metadata": {},
   "source": [
    "## Data collection"
   ]
  },
  {
   "cell_type": "markdown",
   "id": "solid-council",
   "metadata": {},
   "source": [
    "Note: Run this part after importing packages above"
   ]
  },
  {
   "cell_type": "code",
   "execution_count": null,
   "id": "sonic-chester",
   "metadata": {},
   "outputs": [],
   "source": [
    "import pandas as pd"
   ]
  },
  {
   "cell_type": "code",
   "execution_count": null,
   "id": "cooperative-withdrawal",
   "metadata": {},
   "outputs": [],
   "source": [
    "radius = 300\n",
    "participant_uuid_obj = list(edb.get_profile_db().find({\"install_group\": \"participant\"}, {\"user_id\": 1, \"_id\": 0}))\n",
    "all_users = [u[\"user_id\"] for u in participant_uuid_obj]"
   ]
  },
  {
   "cell_type": "code",
   "execution_count": null,
   "id": "surprised-designation",
   "metadata": {},
   "outputs": [],
   "source": [
    "all_data_bins = []\n",
    "for i in range (len(all_users)):\n",
    "    if i == 11:\n",
    "        continue\n",
    "    user = all_users[i]\n",
    "    trips = pipeline.read_data(uuid=user)\n",
    "    sim = similarity.similarity(trips, radius)\n",
    "    sim.bin_data()\n",
    "    bins_num_all = len(sim.bins)\n",
    "    all_data_bins.append(bins_num_all )\n",
    "all_data_bins"
   ]
  },
  {
   "cell_type": "code",
   "execution_count": null,
   "id": "hidden-schedule",
   "metadata": {},
   "outputs": [],
   "source": [
    "all_data_clusters = []\n",
    "for i in range (len(all_users)):\n",
    "    if i == 11:\n",
    "        continue\n",
    "    user = all_users[i]\n",
    "    trips = pipeline.read_data(uuid=user)\n",
    "    sim = similarity.similarity(trips, radius)\n",
    "    sim.bin_data()\n",
    "    feat = featurization.featurization(trips)\n",
    "    min = 0\n",
    "    max = int(math.ceil(1.5 * len(sim.bins)))\n",
    "    feat.cluster(min_clusters=min, max_clusters=max)\n",
    "    all_clusters = feat.clusters\n",
    "    all_data_clusters.append(all_clusters)\n",
    "all_data_clusters"
   ]
  },
  {
   "cell_type": "code",
   "execution_count": null,
   "id": "restricted-spell",
   "metadata": {},
   "outputs": [],
   "source": [
    "# Should restart to run this part and the next part, do not run all data first\n",
    "above_cutoff_bins = []\n",
    "for i in range (len(all_users)):\n",
    "    if i == 11:\n",
    "        continue\n",
    "    user = all_users[i]\n",
    "    trips = pipeline.read_data(uuid=user)\n",
    "    bin_trips, bins = pipeline.remove_noise(trips, radius)\n",
    "    above_cutoff_bins.append(len(bins))\n",
    "above_cutoff_bins"
   ]
  },
  {
   "cell_type": "code",
   "execution_count": null,
   "id": "representative-enemy",
   "metadata": {},
   "outputs": [],
   "source": [
    "above_cutoff_clusters = []\n",
    "for i in range (len(all_users)):\n",
    "    if i == 11:\n",
    "        continue\n",
    "    user = all_users[i]\n",
    "    trips = pipeline.read_data(uuid=user)\n",
    "    bin_trips, bins = pipeline.remove_noise(trips, radius)\n",
    "    feat = featurization.featurization(bin_trips)\n",
    "    min = 0\n",
    "    max = int(math.ceil(1.5 * len(bins)))\n",
    "    feat.cluster(min_clusters=min, max_clusters=max)\n",
    "    above_cutoff_clusters.append(feat.clusters)\n",
    "above_cutoff_clusters"
   ]
  },
  {
   "cell_type": "code",
   "execution_count": null,
   "id": "employed-baltimore",
   "metadata": {},
   "outputs": [],
   "source": [
    "user_index = ['user1','user2','user3','user4','user5','user6','user7','user8','user9','user10','user11','user13']"
   ]
  },
  {
   "cell_type": "code",
   "execution_count": null,
   "id": "continental-sessions",
   "metadata": {
    "scrolled": true
   },
   "outputs": [],
   "source": [
    "all_data = {'all bins':[i for i in all_data_bins],'all clusters':[i for i in all_data_clusters]}"
   ]
  },
  {
   "cell_type": "code",
   "execution_count": null,
   "id": "tracked-manufacturer",
   "metadata": {},
   "outputs": [],
   "source": [
    "cutoff_data = {'above cutoff bins':[i for i in above_cutoff_bins],'above cutoff clusters':[i for i in above_cutoff_clusters]}"
   ]
  },
  {
   "cell_type": "code",
   "execution_count": null,
   "id": "documentary-browse",
   "metadata": {},
   "outputs": [],
   "source": [
    "df_all = pd.DataFrame(data = all_data, index = user_index)\n",
    "df_all"
   ]
  },
  {
   "cell_type": "code",
   "execution_count": null,
   "id": "packed-pollution",
   "metadata": {},
   "outputs": [],
   "source": [
    "df_cutoff = pd.DataFrame(data = cutoff_data, index = user_index)\n",
    "df_cutoff"
   ]
  },
  {
   "cell_type": "code",
   "execution_count": null,
   "id": "subjective-eight",
   "metadata": {},
   "outputs": [],
   "source": [
    "\n",
    "df_cutoff.plot(kind = 'bar')"
   ]
  },
  {
   "cell_type": "code",
   "execution_count": null,
   "id": "gross-pursuit",
   "metadata": {},
   "outputs": [],
   "source": []
  }
 ],
 "metadata": {
  "kernelspec": {
   "display_name": "Python 3",
   "language": "python",
   "name": "python3"
  },
  "language_info": {
   "codemirror_mode": {
    "name": "ipython",
    "version": 3
   },
   "file_extension": ".py",
   "mimetype": "text/x-python",
   "name": "python",
   "nbconvert_exporter": "python",
   "pygments_lexer": "ipython3",
   "version": "3.7.9"
  }
 },
 "nbformat": 4,
 "nbformat_minor": 5
}
