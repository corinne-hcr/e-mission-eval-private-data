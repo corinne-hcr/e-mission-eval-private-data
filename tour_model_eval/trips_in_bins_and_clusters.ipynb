{
 "cells": [
  {
   "cell_type": "code",
   "execution_count": null,
   "id": "mental-retail",
   "metadata": {},
   "outputs": [],
   "source": [
    "import matplotlib\n",
    "import matplotlib.pyplot as plt\n",
    "import numpy\n",
    "import emission.core.get_database as edb\n",
    "import logging\n",
    "import folium\n",
    "import math"
   ]
  },
  {
   "cell_type": "code",
   "execution_count": null,
   "id": "caroline-figure",
   "metadata": {},
   "outputs": [],
   "source": [
    "import emission.storage.timeseries.abstract_timeseries as esta"
   ]
  },
  {
   "cell_type": "code",
   "execution_count": null,
   "id": "combined-magazine",
   "metadata": {},
   "outputs": [],
   "source": [
    "# copied from mode_purpose_share.ipynb\n",
    "# We select participants from real data to be users at this time\n",
    "participant_uuid_obj = list(edb.get_profile_db().find({\"install_group\": \"participant\"}, {\"user_id\": 1, \"_id\": 0}))\n",
    "all_users = [u[\"user_id\"] for u in participant_uuid_obj]"
   ]
  },
  {
   "cell_type": "code",
   "execution_count": null,
   "id": "adaptive-supplement",
   "metadata": {},
   "outputs": [],
   "source": [
    "logger = logging.getLogger()\n",
    "logger.setLevel(logging.DEBUG)"
   ]
  },
  {
   "cell_type": "code",
   "execution_count": null,
   "id": "hollow-prefix",
   "metadata": {},
   "outputs": [],
   "source": [
    "logging.debug('There are %s users, we will plot the graphs for one of them' % len(all_users))\n",
    "\n",
    "user = all_users[1]"
   ]
  },
  {
   "cell_type": "code",
   "execution_count": null,
   "id": "prospective-conducting",
   "metadata": {},
   "outputs": [],
   "source": [
    "import emission.analysis.modelling.tour_model.cluster_pipeline as eamtc"
   ]
  },
  {
   "cell_type": "code",
   "execution_count": null,
   "id": "finnish-istanbul",
   "metadata": {},
   "outputs": [],
   "source": [
    "# we should experiment with different values here\n",
    "radius = 300"
   ]
  },
  {
   "cell_type": "code",
   "execution_count": null,
   "id": "frequent-slovakia",
   "metadata": {},
   "outputs": [],
   "source": [
    "import emission.analysis.modelling.tour_model.similarity as similarity"
   ]
  },
  {
   "cell_type": "code",
   "execution_count": null,
   "id": "bronze-switch",
   "metadata": {},
   "outputs": [],
   "source": [
    "import emission.analysis.modelling.tour_model.cluster_pipeline as pipeline"
   ]
  },
  {
   "cell_type": "code",
   "execution_count": null,
   "id": "consecutive-interface",
   "metadata": {},
   "outputs": [],
   "source": [
    "import emission.analysis.modelling.tour_model.featurization as featurization"
   ]
  },
  {
   "cell_type": "code",
   "execution_count": null,
   "id": "dependent-machinery",
   "metadata": {
    "scrolled": true
   },
   "outputs": [],
   "source": [
    "trips = pipeline.read_data(uuid=user)"
   ]
  },
  {
   "cell_type": "code",
   "execution_count": null,
   "id": "round-death",
   "metadata": {
    "scrolled": true
   },
   "outputs": [],
   "source": [
    "bin_trips, bins = pipeline.remove_noise(trips, radius)"
   ]
  },
  {
   "cell_type": "code",
   "execution_count": null,
   "id": "systematic-huntington",
   "metadata": {
    "scrolled": false
   },
   "outputs": [],
   "source": [
    "# bin_trips"
   ]
  },
  {
   "cell_type": "code",
   "execution_count": null,
   "id": "public-robin",
   "metadata": {},
   "outputs": [],
   "source": [
    "# bins"
   ]
  },
  {
   "cell_type": "code",
   "execution_count": null,
   "id": "amber-schema",
   "metadata": {
    "scrolled": false
   },
   "outputs": [],
   "source": [
    "# Plot all the bin trips on the map, later we should use different color for different bins, but not sure whether it works.\n",
    "m = folium.Map(location=[bin_trips[0].data.start_loc[\"coordinates\"][1], bin_trips[0].data.start_loc[\"coordinates\"][0]],zoom_start=12, max_zoom= 30, control_scale=True)\n",
    "t_index = 0\n",
    "for bin in bins:    \n",
    "    for i in range (len(bin)):\n",
    "        layer = folium.PolyLine([[bin_trips[t_index].data.start_loc[\"coordinates\"][1],bin_trips[t_index].data.start_loc[\"coordinates\"][0]],\n",
    "                                [bin_trips[t_index].data.end_loc[\"coordinates\"][1],bin_trips[t_index].data.end_loc[\"coordinates\"][0]]],weight=2, color='orange')\n",
    "        t_index += 1\n",
    "        layer.add_to(m)\n",
    "        \n",
    "m"
   ]
  },
  {
   "cell_type": "code",
   "execution_count": null,
   "id": "sonic-essay",
   "metadata": {},
   "outputs": [],
   "source": [
    "########clusters#####"
   ]
  },
  {
   "cell_type": "code",
   "execution_count": null,
   "id": "corresponding-silly",
   "metadata": {},
   "outputs": [],
   "source": [
    "feat = featurization.featurization(bin_trips)\n",
    "feat"
   ]
  },
  {
   "cell_type": "code",
   "execution_count": null,
   "id": "lightweight-plaintiff",
   "metadata": {
    "scrolled": false
   },
   "outputs": [],
   "source": [
    "# cluster the data using k-means\n",
    "# def cluster(data, bins)\n",
    "# return feat.clusters, feat.labels, feat.data\n",
    "clusters,labels,feat_data = pipeline.cluster(bin_trips,len(bins))"
   ]
  },
  {
   "cell_type": "code",
   "execution_count": null,
   "id": "perfect-lighter",
   "metadata": {},
   "outputs": [],
   "source": [
    "# Copy from featurization.py, should later change it to use folium\n",
    "def map_clusters(self):\n",
    "#         import matplotlib.pyplot as plt\n",
    "#         from matplotlib import colors as matcol\n",
    "#         colormap = plt.cm.get_cmap()\n",
    "\n",
    "    cluster_map = folium.Map(location=[self.points[0][1], self.points[0][0]],zoom_start=12, max_zoom= 30, control_scale=True)\n",
    "\n",
    "\n",
    "    if self.labels:             \n",
    "        for i in range(len(self.points)):\n",
    "            start_lat = self.points[i][1]\n",
    "            start_lon = self.points[i][0]\n",
    "            end_lat = self.points[i][3]\n",
    "            end_lon = self.points[i][2]\n",
    "            path = [(start_lat, start_lon), (end_lat, end_lon)]\n",
    "            layer = folium.PolyLine([[start_lat,start_lon],\n",
    "                                     [end_lat,end_lon]],weight=2, color='orange')\n",
    "            layer.add_to(cluster_map)\n",
    "    cluster_map"
   ]
  },
  {
   "cell_type": "code",
   "execution_count": null,
   "id": "reflected-second",
   "metadata": {},
   "outputs": [],
   "source": [
    "# clusters"
   ]
  },
  {
   "cell_type": "code",
   "execution_count": null,
   "id": "varying-european",
   "metadata": {},
   "outputs": [],
   "source": [
    "# labels"
   ]
  },
  {
   "cell_type": "code",
   "execution_count": null,
   "id": "blocked-biotechnology",
   "metadata": {
    "scrolled": true
   },
   "outputs": [],
   "source": [
    "# feat_data"
   ]
  },
  {
   "cell_type": "code",
   "execution_count": null,
   "id": "durable-devon",
   "metadata": {},
   "outputs": [],
   "source": [
    "# feat.points"
   ]
  },
  {
   "cell_type": "code",
   "execution_count": null,
   "id": "occasional-basis",
   "metadata": {
    "scrolled": false
   },
   "outputs": [],
   "source": [
    "# This doesn't show the map, I don't know why.\n",
    "map_clusters(feat)"
   ]
  },
  {
   "cell_type": "code",
   "execution_count": null,
   "id": "about-equity",
   "metadata": {
    "scrolled": true
   },
   "outputs": [],
   "source": []
  },
  {
   "cell_type": "code",
   "execution_count": null,
   "id": "essential-twins",
   "metadata": {},
   "outputs": [],
   "source": []
  }
 ],
 "metadata": {
  "kernelspec": {
   "display_name": "Python 3",
   "language": "python",
   "name": "python3"
  },
  "language_info": {
   "codemirror_mode": {
    "name": "ipython",
    "version": 3
   },
   "file_extension": ".py",
   "mimetype": "text/x-python",
   "name": "python",
   "nbconvert_exporter": "python",
   "pygments_lexer": "ipython3",
   "version": "3.7.9"
  }
 },
 "nbformat": 4,
 "nbformat_minor": 5
}
