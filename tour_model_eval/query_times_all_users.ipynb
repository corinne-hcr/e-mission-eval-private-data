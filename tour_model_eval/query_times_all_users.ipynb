{
 "cells": [
  {
   "cell_type": "code",
   "execution_count": null,
   "id": "expanded-implement",
   "metadata": {},
   "outputs": [],
   "source": [
    "import logging\n",
    "\n",
    "# Our imports\n",
    "import emission.core.get_database as edb\n",
    "import emission.analysis.modelling.tour_model.cluster_pipeline as pipeline\n",
    "import emission.analysis.modelling.tour_model.similarity as similarity\n",
    "import emission.analysis.modelling.tour_model.featurization as featurization\n",
    "import emission.analysis.modelling.tour_model.representatives as representatives\n",
    "import emission.storage.decorations.analysis_timeseries_queries as esda\n",
    "import pandas as pd\n",
    "from numpy import *\n",
    "import confirmed_trips_eval_bins_clusters as evaluation\n",
    "from sklearn import metrics\n",
    "from pandas.testing import assert_frame_equal"
   ]
  },
  {
   "cell_type": "code",
   "execution_count": null,
   "id": "functional-birthday",
   "metadata": {},
   "outputs": [],
   "source": [
    "# logger = logging.getLogger()\n",
    "# logger.setLevel(logging.DEBUG)"
   ]
  },
  {
   "cell_type": "code",
   "execution_count": null,
   "id": "turned-watch",
   "metadata": {},
   "outputs": [],
   "source": [
    "participant_uuid_obj = list(edb.get_profile_db().find({\"install_group\": \"participant\"}, {\"user_id\": 1, \"_id\": 0}))\n",
    "all_users = [u[\"user_id\"] for u in participant_uuid_obj]"
   ]
  },
  {
   "cell_type": "code",
   "execution_count": null,
   "id": "encouraging-killer",
   "metadata": {},
   "outputs": [],
   "source": [
    "radius = 100"
   ]
  },
  {
   "cell_type": "code",
   "execution_count": null,
   "id": "tender-volleyball",
   "metadata": {},
   "outputs": [],
   "source": [
    "query_day = []"
   ]
  },
  {
   "cell_type": "code",
   "execution_count": null,
   "id": "perfect-promotion",
   "metadata": {},
   "outputs": [],
   "source": [
    "query_month = []"
   ]
  },
  {
   "cell_type": "code",
   "execution_count": null,
   "id": "ordered-juvenile",
   "metadata": {},
   "outputs": [],
   "source": [
    "def match_day(trip,bin):\n",
    "    if bin:\n",
    "        t = filter_trips[bin[0]]\n",
    "        if trip['data']['start_local_dt']['year']==t['data']['start_local_dt']['year']and trip['data']['start_local_dt']['month']==t['data']['start_local_dt']['month']and trip['data']['start_local_dt']['day']==t['data']['start_local_dt']['day']:\n",
    "            return True\n",
    "    return False"
   ]
  },
  {
   "cell_type": "code",
   "execution_count": null,
   "id": "raising-brisbane",
   "metadata": {},
   "outputs": [],
   "source": [
    "def match_month(trip,bin):\n",
    "    if bin:\n",
    "        t = filter_trips[bin[0]]\n",
    "        if trip['data']['start_local_dt']['year']==t['data']['start_local_dt']['year']and trip['data']['start_local_dt']['month']==t['data']['start_local_dt']['month']:\n",
    "            return True\n",
    "    return False"
   ]
  },
  {
   "cell_type": "code",
   "execution_count": null,
   "id": "comic-apache",
   "metadata": {},
   "outputs": [],
   "source": [
    "for i in range(len(all_users)):\n",
    "    user = all_users[i]\n",
    "    filter_trips,sim = evaluation.filter_data(user,radius)\n",
    "    logging.debug(\"len(filter_trips)is %s \"% len(filter_trips))\n",
    "\n",
    "    # filter out users that don't have valid labeled trips\n",
    "    if len(filter_trips) == 0:\n",
    "        query_day.append(NaN)\n",
    "        query_month.append(NaN)\n",
    "        continue\n",
    "        \n",
    "    sim.bin_data()\n",
    "    sim.delete_bins()\n",
    "    # bins below cutoff\n",
    "    bl_bins = sim.below_cutoff\n",
    "    \n",
    "    # a list of trip indices from bl_bins\n",
    "    bl_trip_ls = []\n",
    "    for bin in bl_bins:\n",
    "        for index in bin:\n",
    "            bl_trip_ls.append(index)\n",
    "\n",
    "    # collect all the trips that below cutoff\n",
    "    bl_trips = [filter_trips[num]for num in bl_trip_ls]\n",
    "    \n",
    "    \n",
    "    # collect query times in a day\n",
    "    bin_day = []\n",
    "    for trip_index in bl_trip_ls:\n",
    "        added = False\n",
    "        trip = filter_trips[trip_index]\n",
    "        for bin in bin_day:\n",
    "            if match_day(trip,bin):\n",
    "                bin.append(trip_index)\n",
    "                added = True\n",
    "        if not added:\n",
    "            bin_day.append([trip_index])\n",
    "    query_day_ls = []\n",
    "    for bin in bin_day:\n",
    "        query_day_ls.append(len(bin))\n",
    "\n",
    "    # average query times for a day\n",
    "    query_day.append(math.ceil(mean(query_day_ls)))\n",
    "    \n",
    "    \n",
    "    # collect query times in a month\n",
    "    bin_month = []\n",
    "    for trip_index in bl_trip_ls:\n",
    "        added = False\n",
    "        trip = filter_trips[trip_index]\n",
    "        for bin in bin_month:\n",
    "            if match_month(trip,bin):\n",
    "                bin.append(trip_index)\n",
    "                added = True\n",
    "        if not added:\n",
    "            bin_month.append([trip_index])\n",
    "        query_month_ls = []\n",
    "    for bin in bin_month:\n",
    "        query_month_ls.append(len(bin))\n",
    "\n",
    "    # average query times for a month\n",
    "    query_month.append(math.ceil(mean(query_month_ls)))\n"
   ]
  },
  {
   "cell_type": "code",
   "execution_count": null,
   "id": "alternative-dialogue",
   "metadata": {},
   "outputs": [],
   "source": [
    "query_day"
   ]
  },
  {
   "cell_type": "code",
   "execution_count": null,
   "id": "tracked-pattern",
   "metadata": {},
   "outputs": [],
   "source": [
    "query_month"
   ]
  },
  {
   "cell_type": "code",
   "execution_count": null,
   "id": "instant-somerset",
   "metadata": {},
   "outputs": [],
   "source": [
    "mean_day = math.ceil(mean([x for x in query_day if str(x) != 'nan']))\n",
    "mean_day"
   ]
  },
  {
   "cell_type": "code",
   "execution_count": null,
   "id": "documented-municipality",
   "metadata": {},
   "outputs": [],
   "source": [
    "mean_month = math.ceil(mean([x for x in query_month if str(x) != 'nan']))\n",
    "mean_month"
   ]
  },
  {
   "cell_type": "code",
   "execution_count": null,
   "id": "burning-elephant",
   "metadata": {},
   "outputs": [],
   "source": [
    "df = pd.DataFrame(data = {'query times in a day':query_day,'query times in a month':query_month})\n",
    "df.loc['mean'] = [mean_day,mean_month]\n",
    "df"
   ]
  },
  {
   "cell_type": "code",
   "execution_count": null,
   "id": "incoming-gibson",
   "metadata": {},
   "outputs": [],
   "source": [
    "df.plot(kind = 'bar')"
   ]
  }
 ],
 "metadata": {
  "kernelspec": {
   "display_name": "Python 3",
   "language": "python",
   "name": "python3"
  },
  "language_info": {
   "codemirror_mode": {
    "name": "ipython",
    "version": 3
   },
   "file_extension": ".py",
   "mimetype": "text/x-python",
   "name": "python",
   "nbconvert_exporter": "python",
   "pygments_lexer": "ipython3",
   "version": "3.7.9"
  }
 },
 "nbformat": 4,
 "nbformat_minor": 5
}
