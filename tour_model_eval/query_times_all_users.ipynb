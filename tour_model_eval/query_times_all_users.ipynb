{
 "cells": [
  {
   "cell_type": "code",
   "execution_count": null,
   "id": "inner-sacramento",
   "metadata": {
    "scrolled": true
   },
   "outputs": [],
   "source": [
    "import logging\n",
    "\n",
    "# Our imports\n",
    "import emission.core.get_database as edb\n",
    "import emission.analysis.modelling.tour_model.cluster_pipeline as pipeline\n",
    "import emission.analysis.modelling.tour_model.similarity as similarity\n",
    "import emission.analysis.modelling.tour_model.featurization as featurization\n",
    "import emission.analysis.modelling.tour_model.representatives as representatives\n",
    "import emission.storage.decorations.analysis_timeseries_queries as esda\n",
    "import pandas as pd\n",
    "from numpy import *\n",
    "import confirmed_trips_eval_bins_clusters as evaluation\n",
    "from sklearn import metrics\n",
    "from pandas.testing import assert_frame_equal\n",
    "import matplotlib.pyplot as plt\n",
    "from matplotlib.ticker import MaxNLocator\n",
    "import numpy as np\n",
    "# import matplotlib.ticker as ticker"
   ]
  },
  {
   "cell_type": "code",
   "execution_count": null,
   "id": "subjective-cruise",
   "metadata": {},
   "outputs": [],
   "source": [
    "participant_uuid_obj = list(edb.get_profile_db().find({\"install_group\": \"participant\"}, {\"user_id\": 1, \"_id\": 0}))\n",
    "all_users = [u[\"user_id\"] for u in participant_uuid_obj]"
   ]
  },
  {
   "cell_type": "code",
   "execution_count": null,
   "id": "posted-broadcasting",
   "metadata": {},
   "outputs": [],
   "source": [
    "radius = 100"
   ]
  },
  {
   "cell_type": "code",
   "execution_count": null,
   "id": "lesbian-employee",
   "metadata": {},
   "outputs": [],
   "source": [
    "query_day = []"
   ]
  },
  {
   "cell_type": "code",
   "execution_count": null,
   "id": "wound-thomson",
   "metadata": {},
   "outputs": [],
   "source": [
    "query_month = []"
   ]
  },
  {
   "cell_type": "code",
   "execution_count": null,
   "id": "destroyed-attention",
   "metadata": {},
   "outputs": [],
   "source": [
    "def match_day(trip,bin):\n",
    "    if bin:\n",
    "        t = filter_trips[bin[0]]\n",
    "        if trip['data']['start_local_dt']['year']==t['data']['start_local_dt']['year']and trip['data']['start_local_dt']['month']==t['data']['start_local_dt']['month']and trip['data']['start_local_dt']['day']==t['data']['start_local_dt']['day']:\n",
    "            return True\n",
    "    return False"
   ]
  },
  {
   "cell_type": "code",
   "execution_count": null,
   "id": "breeding-cream",
   "metadata": {},
   "outputs": [],
   "source": [
    "def match_month(trip,bin):\n",
    "    if bin:\n",
    "        t = filter_trips[bin[0]]\n",
    "        if trip['data']['start_local_dt']['year']==t['data']['start_local_dt']['year']and trip['data']['start_local_dt']['month']==t['data']['start_local_dt']['month']:\n",
    "            return True\n",
    "    return False"
   ]
  },
  {
   "cell_type": "code",
   "execution_count": null,
   "id": "formed-drive",
   "metadata": {},
   "outputs": [],
   "source": [
    "# build a base dataframe for query times in January \n",
    "date_df = pd.DataFrame(data = {'date':np.arange(1,32),'drop_col':np.arange(1,32)})\n",
    "date_df.set_index(['date'], inplace=True)\n",
    "\n",
    "\n",
    "for a in range(len(all_users)):\n",
    "    user = all_users[a]\n",
    "    filter_trips,sim,trips = evaluation.filter_data(user,radius)\n",
    "    logging.debug(\"len(filter_trips)is %s \"% len(filter_trips))\n",
    "\n",
    "    # filter out users that don't have enough valid labeled trips\n",
    "    if not evaluation.valid_user(filter_trips,trips):\n",
    "        query_day.append(NaN)\n",
    "        query_month.append(NaN)      \n",
    "        continue\n",
    "        \n",
    "    sim.bin_data()\n",
    "    sim.delete_bins()\n",
    "    bins = sim.bins\n",
    "    \n",
    "    # collect query trips and common trips(no need to query) indices above cutoff\n",
    "    ab_trip_ls = []\n",
    "    no_query_trip_ls = []\n",
    "    for bin in bins:\n",
    "        early_trip = filter_trips[bin[0]]\n",
    "        trip_index = 0\n",
    "        for i in range(1,len(bin)):\n",
    "            compare_trip = filter_trips[bin[i]]\n",
    "            if early_trip['data']['start_local_dt']['year']>compare_trip['data']['start_local_dt']['year']:\n",
    "                early_trip = compare_trip\n",
    "                trip_index = i\n",
    "            elif early_trip['data']['start_local_dt']['year']==compare_trip['data']['start_local_dt']['year'] and early_trip['data']['start_local_dt']['month']>compare_trip['data']['start_local_dt']['month']:\n",
    "                early_trip = compare_trip\n",
    "                trip_index = i\n",
    "            elif early_trip['data']['start_local_dt']['year']==compare_trip['data']['start_local_dt']['year'] and early_trip['data']['start_local_dt']['month']==compare_trip['data']['start_local_dt']['month'] and early_trip['data']['start_local_dt']['day']>compare_trip['data']['start_local_dt']['day']:\n",
    "                early_trip = compare_trip\n",
    "                trip_index = i\n",
    "        ab_trip_ls.append(bin[trip_index])\n",
    "        \n",
    "        for k in range(len(bin)):\n",
    "            if k != trip_index:\n",
    "                no_query_trip_ls.append(bin[k])\n",
    "\n",
    "\n",
    "    \n",
    "    # bins below cutoff\n",
    "    bl_bins = sim.below_cutoff\n",
    "    \n",
    "    # collect query trips indices below cutoff\n",
    "    bl_trip_ls = []\n",
    "    for bin in bl_bins:\n",
    "        for index in bin:\n",
    "            bl_trip_ls.append(index)\n",
    "            \n",
    "    # whole list of query trips indices\n",
    "    query_trips_ls=ab_trip_ls+bl_trip_ls\n",
    "    \n",
    "    \n",
    "    # collect query times in a day\n",
    "    bin_day = []\n",
    "    for trip_index in query_trips_ls:\n",
    "        added = False\n",
    "        trip = filter_trips[trip_index]\n",
    "        for bin in bin_day:\n",
    "            if match_day(trip,bin):\n",
    "                bin.append(trip_index)\n",
    "                added = True\n",
    "        if not added:\n",
    "            bin_day.append([trip_index])\n",
    "    query_day_ls = []\n",
    "    for bin in bin_day:\n",
    "        query_day_ls.append(len(bin))\n",
    "        \n",
    "    # collect 0 query days \n",
    "    for trip_index in no_query_trip_ls:\n",
    "        trip = filter_trips[trip_index]\n",
    "        match = False\n",
    "        for bin in bin_day:\n",
    "            if match_day(trip,bin):\n",
    "                match = True\n",
    "                break\n",
    "        if not match:\n",
    "            query_day_ls.append(0)\n",
    "            \n",
    "\n",
    "    # collect query times in a day for every user\n",
    "    query_day.append(query_day_ls)\n",
    "    \n",
    "   \n",
    "    # collect query times in a month\n",
    "    bin_month = []\n",
    "    for trip_index in query_trips_ls:\n",
    "        added = False\n",
    "        trip = filter_trips[trip_index]\n",
    "        for bin in bin_month:\n",
    "            if match_month(trip,bin):\n",
    "                bin.append(trip_index)\n",
    "                added = True\n",
    "        if not added:\n",
    "            bin_month.append([trip_index])\n",
    "        query_month_ls = []\n",
    "    for bin in bin_month:\n",
    "        query_month_ls.append(len(bin))\n",
    "\n",
    "    # collect query times in a month for every user\n",
    "    query_month.append(query_month_ls)\n",
    "    \n",
    "    # select the trips that are in Jan 2021\n",
    "    jan_trips = []\n",
    "    for trip_index in query_trips_ls:\n",
    "        if filter_trips[trip_index]['data']['start_local_dt']['year']==2021 and filter_trips[trip_index]['data']['start_local_dt']['month']==1:\n",
    "            jan_trips.append(trip_index)\n",
    "    \n",
    "    # create the data frame for query times in Jan 2021\n",
    "    date = []\n",
    "    for trip_index in jan_trips:\n",
    "        trip_date = filter_trips[trip_index]['data']['start_local_dt']['day']\n",
    "        date.append(trip_date)\n",
    "        new_date_df = pd.DataFrame(data = date)\n",
    "        new_date_df=new_date_df.value_counts(sort = False).rename_axis('date').to_frame('user'+str(a+1)).reset_index()\n",
    "        new_date_df.set_index(['date'], inplace=True)\n",
    "    date_df = date_df.join(new_date_df,how='outer')\n",
    "date_df=date_df.drop(columns=['drop_col'])"
   ]
  },
  {
   "cell_type": "code",
   "execution_count": null,
   "id": "functional-proposal",
   "metadata": {},
   "outputs": [],
   "source": [
    "query_day"
   ]
  },
  {
   "cell_type": "code",
   "execution_count": null,
   "id": "logical-adolescent",
   "metadata": {},
   "outputs": [],
   "source": [
    "query_month"
   ]
  },
  {
   "cell_type": "markdown",
   "id": "ruled-dictionary",
   "metadata": {},
   "source": [
    "### Plot query times in a day"
   ]
  },
  {
   "cell_type": "code",
   "execution_count": null,
   "id": "biological-middle",
   "metadata": {},
   "outputs": [],
   "source": [
    "# show query times in a data frame\n",
    "base = 0\n",
    "for i in range (len(query_day)):\n",
    "    if query_day[i] is not NaN:\n",
    "            query_day_ls_df = pd.DataFrame(data = query_day[i])\n",
    "            query_day_df=query_day_ls_df.value_counts(sort = False).rename_axis('query times').to_frame('user'+str(i+1)).reset_index()\n",
    "            query_day_df.set_index(['query times'], inplace=True)\n",
    "            base = i\n",
    "            break\n",
    "            \n",
    "for i in range (base+1,len(query_day)):\n",
    "    if query_day[i] is not NaN:\n",
    "        new_day_df = pd.DataFrame(data = query_day[i])\n",
    "        new_day_df = new_day_df.value_counts(sort = False).rename_axis('query times').to_frame('user'+str(i+1)).reset_index()\n",
    "        new_day_df.set_index(['query times'], inplace=True)\n",
    "        query_day_df=query_day_df.join(new_day_df,how='outer',sort='query times')\n",
    "        \n",
    "query_day_df"
   ]
  },
  {
   "cell_type": "code",
   "execution_count": null,
   "id": "revised-venice",
   "metadata": {},
   "outputs": [],
   "source": [
    "# plot a graph for all valid users\n",
    "yticks_max = query_day_df.max().max()\n",
    "graph_day = query_day_df.plot(kind='bar',figsize=(14,16),title='query times in a day',fontsize=18,yticks=np.arange(0, yticks_max+4, step=4))\n",
    "graph_day.title.set_size(20)\n",
    "plt.xlabel('query times',fontsize=16)\n",
    "plt.ylabel('days', fontsize=16)"
   ]
  },
  {
   "cell_type": "code",
   "execution_count": null,
   "id": "requested-canyon",
   "metadata": {
    "scrolled": false
   },
   "outputs": [],
   "source": [
    "# subplots\n",
    "day_ax_arr = query_day_df.plot(subplots=True,layout=(2,4),kind='bar',figsize=(16,8),fontsize=15,sharey=True)\n",
    "\n",
    "for ax in day_ax_arr[-1]:\n",
    "    ax.set_xlabel('query times', fontsize=16)\n",
    "    \n",
    "for ax_arr in day_ax_arr:\n",
    "    ax_arr[0].yaxis.set_major_locator(MaxNLocator(integer=True))\n",
    "    ax_arr[0].set_ylabel('days', fontsize=16)\n",
    "plt.tight_layout()"
   ]
  },
  {
   "cell_type": "markdown",
   "id": "confident-capacity",
   "metadata": {},
   "source": [
    "### Plot query times in a month"
   ]
  },
  {
   "cell_type": "markdown",
   "id": "younger-destiny",
   "metadata": {},
   "source": [
    "Note: not all users have data on the same number of months. "
   ]
  },
  {
   "cell_type": "code",
   "execution_count": null,
   "id": "quiet-minister",
   "metadata": {},
   "outputs": [],
   "source": [
    "# put all query times in a month for all valid users in a data frame\n",
    "start = 0\n",
    "\n",
    "for i in range (len(query_month)):\n",
    "    if query_month[i] is not NaN:\n",
    "        query_month_df = pd.DataFrame({'user'+str(i+1):query_month[i]}).rename_axis('month indicies').reset_index()\n",
    "        query_month_df.set_index(['month indicies'], inplace=True)\n",
    "        start = i\n",
    "        break\n",
    "query_month_df\n",
    "\n",
    "        \n",
    "for t in range(start+1,len(query_month)):\n",
    "    if query_month[t] is not NaN:\n",
    "        new_month_df = pd.DataFrame({'user'+str(t+1):query_month[t]}).rename_axis('month indicies').reset_index()\n",
    "        new_month_df.set_index(['month indicies'], inplace=True)\n",
    "        query_month_df = query_month_df.join(new_month_df,how='outer')\n",
    "\n",
    "query_month_df"
   ]
  },
  {
   "cell_type": "code",
   "execution_count": null,
   "id": "naked-february",
   "metadata": {},
   "outputs": [],
   "source": [
    "# plot a graph for all valid users\n",
    "graph_month = query_month_df.plot(kind='bar',figsize=(12,8),title='query times in a month',fontsize=18)\n",
    "graph_month.title.set_size(20)\n",
    "plt.xlabel('month indicies',fontsize=16)\n",
    "plt.ylabel('query times', fontsize=16)\n",
    "graph_day.yaxis.set_major_locator(MaxNLocator(integer=True))"
   ]
  },
  {
   "cell_type": "markdown",
   "id": "satisfied-essay",
   "metadata": {},
   "source": [
    "### Get query times for all valid users in January"
   ]
  },
  {
   "cell_type": "code",
   "execution_count": null,
   "id": "korean-vintage",
   "metadata": {},
   "outputs": [],
   "source": [
    "date_df"
   ]
  },
  {
   "cell_type": "code",
   "execution_count": null,
   "id": "oriented-possibility",
   "metadata": {},
   "outputs": [],
   "source": [
    "# plot data graph\n",
    "graph_date = date_df.plot(kind='bar',figsize=(20,10),title='query times in January',fontsize=18)\n",
    "graph_date.title.set_size(20)\n",
    "plt.xlabel('date',fontsize=16)\n",
    "plt.ylabel('query times', fontsize=16)\n",
    "graph_date.yaxis.set_major_locator(MaxNLocator(integer=True))"
   ]
  },
  {
   "cell_type": "code",
   "execution_count": null,
   "id": "alpha-vermont",
   "metadata": {},
   "outputs": [],
   "source": [
    "# subplots on January query times\n",
    "date_ax_arr = date_df.plot(subplots=True,layout=(2,4),kind='bar',figsize=(16,8),fontsize=15,sharey =True)\n",
    "\n",
    "for ax in date_ax_arr[-1]:\n",
    "    ax.set_xlabel(\"date\", fontsize=16)\n",
    "    \n",
    "for ax_arr in date_ax_arr:\n",
    "    ax_arr[0].yaxis.set_major_locator(MaxNLocator(integer=True))\n",
    "    ax_arr[0].set_ylabel(\"query times\", fontsize=16)\n",
    "    \n",
    "date_ax_arr[-1][0].set_xticks(list(range(0,len(date_df.index),5)))\n",
    "date_ax_arr[-1][0].set_xticklabels(list(range(date_df.index[0],date_df.index[-1]+1,5)))"
   ]
  }
 ],
 "metadata": {
  "kernelspec": {
   "display_name": "Python 3",
   "language": "python",
   "name": "python3"
  },
  "language_info": {
   "codemirror_mode": {
    "name": "ipython",
    "version": 3
   },
   "file_extension": ".py",
   "mimetype": "text/x-python",
   "name": "python",
   "nbconvert_exporter": "python",
   "pygments_lexer": "ipython3",
   "version": "3.7.9"
  }
 },
 "nbformat": 4,
 "nbformat_minor": 5
}
