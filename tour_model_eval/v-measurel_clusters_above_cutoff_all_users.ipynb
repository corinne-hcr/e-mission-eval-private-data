{
 "cells": [
  {
   "cell_type": "code",
   "execution_count": null,
   "id": "important-humanity",
   "metadata": {},
   "outputs": [],
   "source": [
    "import logging\n",
    "\n",
    "# Our imports\n",
    "import emission.core.get_database as edb\n",
    "import emission.analysis.modelling.tour_model.cluster_pipeline as pipeline\n",
    "import emission.analysis.modelling.tour_model.similarity as similarity\n",
    "import emission.analysis.modelling.tour_model.featurization as featurization\n",
    "import emission.analysis.modelling.tour_model.representatives as representatives\n",
    "import emission.storage.decorations.analysis_timeseries_queries as esda\n",
    "import pandas as pd\n",
    "from numpy import *\n",
    "import confirmed_trips_eval_bins_clusters as evaluation\n",
    "from sklearn import metrics\n",
    "from pandas.testing import assert_frame_equal"
   ]
  },
  {
   "cell_type": "code",
   "execution_count": null,
   "id": "physical-improvement",
   "metadata": {},
   "outputs": [],
   "source": [
    "participant_uuid_obj = list(edb.get_profile_db().find({\"install_group\": \"participant\"}, {\"user_id\": 1, \"_id\": 0}))\n",
    "all_users = [u[\"user_id\"] for u in participant_uuid_obj]"
   ]
  },
  {
   "cell_type": "code",
   "execution_count": null,
   "id": "figured-buddy",
   "metadata": {},
   "outputs": [],
   "source": [
    "radius = 300"
   ]
  },
  {
   "cell_type": "code",
   "execution_count": null,
   "id": "equal-release",
   "metadata": {},
   "outputs": [],
   "source": [
    "pd.set_option('max_colwidth',100)\n",
    "pd.set_option('display.max_rows', None)"
   ]
  },
  {
   "cell_type": "markdown",
   "id": "standard-savannah",
   "metadata": {},
   "source": [
    "## Evaluate clusters above cutoff based on silhouette_score"
   ]
  },
  {
   "cell_type": "markdown",
   "id": "formed-guitar",
   "metadata": {},
   "source": [
    "### Original user input"
   ]
  },
  {
   "cell_type": "code",
   "execution_count": null,
   "id": "official-victor",
   "metadata": {},
   "outputs": [],
   "source": [
    "homo_score_ori, comp_score_ori, v_score_ori = evaluation.v_measure_clusters(all_users,radius)"
   ]
  },
  {
   "cell_type": "code",
   "execution_count": null,
   "id": "loved-isolation",
   "metadata": {},
   "outputs": [],
   "source": [
    "mean_v_ori=round(mean([x for x in v_score_ori if str(x) != 'nan']),3)"
   ]
  },
  {
   "cell_type": "markdown",
   "id": "demanding-rendering",
   "metadata": {},
   "source": [
    "### After changing language"
   ]
  },
  {
   "cell_type": "code",
   "execution_count": null,
   "id": "satisfied-enough",
   "metadata": {},
   "outputs": [],
   "source": [
    "homo_score_sp2en, comp_score_sp2en, v_score_sp2en = evaluation.v_measure_clusters(all_users,radius,sp2en=True)"
   ]
  },
  {
   "cell_type": "code",
   "execution_count": null,
   "id": "hundred-pasta",
   "metadata": {},
   "outputs": [],
   "source": [
    "mean_v_sp2en=round(mean([x for x in v_score_sp2en if str(x) != 'nan']),3)"
   ]
  },
  {
   "cell_type": "markdown",
   "id": "hungarian-wallpaper",
   "metadata": {},
   "source": [
    "### After converting purposes and replaced mode"
   ]
  },
  {
   "cell_type": "code",
   "execution_count": null,
   "id": "particular-scope",
   "metadata": {},
   "outputs": [],
   "source": [
    "homo_score_cvt, comp_score_cvt, v_score_cvt = evaluation.v_measure_clusters(all_users,radius,cvt_pur_mo=True)"
   ]
  },
  {
   "cell_type": "code",
   "execution_count": null,
   "id": "neither-shooting",
   "metadata": {},
   "outputs": [],
   "source": [
    "mean_v_cvt=round(mean([x for x in v_score_cvt if str(x) != 'nan']),3)"
   ]
  },
  {
   "cell_type": "markdown",
   "id": "continuing-absorption",
   "metadata": {},
   "source": [
    "### DataFrame"
   ]
  },
  {
   "cell_type": "code",
   "execution_count": null,
   "id": "retained-citizenship",
   "metadata": {},
   "outputs": [],
   "source": [
    "df = pd.DataFrame(data={'homogeneity_score':[homo_score_ori,homo_score_sp2en,homo_score_cvt],\n",
    "                        'completeness_score':[comp_score_ori,comp_score_sp2en,comp_score_cvt],\n",
    "                       'v_measure_score':[v_score_ori,v_score_sp2en,v_score_cvt],\n",
    "                        'mean v_measure_score':[mean_v_ori,mean_v_sp2en,mean_v_cvt]},\n",
    "                  index = ['original user input','after translation','after converting purposes and replaced mode'])\n",
    "df"
   ]
  }
 ],
 "metadata": {
  "kernelspec": {
   "display_name": "Python 3",
   "language": "python",
   "name": "python3"
  },
  "language_info": {
   "codemirror_mode": {
    "name": "ipython",
    "version": 3
   },
   "file_extension": ".py",
   "mimetype": "text/x-python",
   "name": "python",
   "nbconvert_exporter": "python",
   "pygments_lexer": "ipython3",
   "version": "3.7.9"
  }
 },
 "nbformat": 4,
 "nbformat_minor": 5
}
