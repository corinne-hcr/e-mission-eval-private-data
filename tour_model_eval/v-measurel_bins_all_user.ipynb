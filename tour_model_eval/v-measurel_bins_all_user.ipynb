{
 "cells": [
  {
   "cell_type": "code",
   "execution_count": null,
   "id": "spoken-acrobat",
   "metadata": {
    "scrolled": true
   },
   "outputs": [],
   "source": [
    "import logging\n",
    "\n",
    "# Our imports\n",
    "import emission.core.get_database as edb\n",
    "import emission.analysis.modelling.tour_model.cluster_pipeline as pipeline\n",
    "import emission.analysis.modelling.tour_model.similarity as similarity\n",
    "import emission.analysis.modelling.tour_model.featurization as featurization\n",
    "import emission.analysis.modelling.tour_model.representatives as representatives\n",
    "import emission.storage.decorations.analysis_timeseries_queries as esda\n",
    "import pandas as pd\n",
    "from numpy import *\n",
    "import confirmed_trips_eval_bins_clusters as evaluation\n",
    "from sklearn import metrics\n",
    "from pandas.testing import assert_frame_equal"
   ]
  },
  {
   "cell_type": "code",
   "execution_count": null,
   "id": "solid-decimal",
   "metadata": {},
   "outputs": [],
   "source": [
    "participant_uuid_obj = list(edb.get_profile_db().find({\"install_group\": \"participant\"}, {\"user_id\": 1, \"_id\": 0}))\n",
    "all_users = [u[\"user_id\"] for u in participant_uuid_obj]"
   ]
  },
  {
   "cell_type": "code",
   "execution_count": null,
   "id": "acute-departure",
   "metadata": {},
   "outputs": [],
   "source": [
    "radius = 100"
   ]
  },
  {
   "cell_type": "code",
   "execution_count": null,
   "id": "practical-flour",
   "metadata": {},
   "outputs": [],
   "source": [
    "pd.set_option('max_colwidth',100)\n",
    "pd.set_option('display.max_rows', None)"
   ]
  },
  {
   "cell_type": "markdown",
   "id": "indirect-retrieval",
   "metadata": {},
   "source": [
    "## Bins above cutoff"
   ]
  },
  {
   "cell_type": "markdown",
   "id": "deadly-microwave",
   "metadata": {},
   "source": [
    "### Original user input"
   ]
  },
  {
   "cell_type": "code",
   "execution_count": null,
   "id": "strange-dining",
   "metadata": {},
   "outputs": [],
   "source": [
    "homo_score_ori, comp_score_ori, v_score_ori = evaluation.v_measure_bins(all_users,radius,cutoff=True)"
   ]
  },
  {
   "cell_type": "code",
   "execution_count": null,
   "id": "black-mobility",
   "metadata": {},
   "outputs": [],
   "source": [
    "mean_v_ori=round(mean([x for x in v_score_ori if str(x) != 'nan']),3)"
   ]
  },
  {
   "cell_type": "markdown",
   "id": "composite-possibility",
   "metadata": {},
   "source": [
    "### After changing language"
   ]
  },
  {
   "cell_type": "code",
   "execution_count": null,
   "id": "wanted-mustang",
   "metadata": {
    "scrolled": true
   },
   "outputs": [],
   "source": [
    "homo_score_sp2en, comp_score_sp2en, v_score_sp2en = evaluation.v_measure_bins(all_users,radius,sp2en=True,cutoff=True)"
   ]
  },
  {
   "cell_type": "code",
   "execution_count": null,
   "id": "productive-palestine",
   "metadata": {},
   "outputs": [],
   "source": [
    "mean_v_sp2en=round(mean([x for x in v_score_sp2en if str(x) != 'nan']),3)"
   ]
  },
  {
   "cell_type": "markdown",
   "id": "heard-florist",
   "metadata": {},
   "source": [
    "### After converting purposes and replaced mode"
   ]
  },
  {
   "cell_type": "code",
   "execution_count": null,
   "id": "smaller-creek",
   "metadata": {},
   "outputs": [],
   "source": [
    "homo_score_cvt, comp_score_cvt, v_score_cvt = evaluation.v_measure_bins(all_users,radius,cvt_pur_mo=True,cutoff=True)"
   ]
  },
  {
   "cell_type": "code",
   "execution_count": null,
   "id": "square-importance",
   "metadata": {},
   "outputs": [],
   "source": [
    "mean_v_cvt=round(mean([x for x in v_score_cvt if str(x) != 'nan']),3)"
   ]
  },
  {
   "cell_type": "markdown",
   "id": "approximate-groove",
   "metadata": {},
   "source": [
    "### DataFrame"
   ]
  },
  {
   "cell_type": "code",
   "execution_count": null,
   "id": "studied-saint",
   "metadata": {},
   "outputs": [],
   "source": [
    "cutoff_df = pd.DataFrame(data={'homogeneity_score':[homo_score_ori,homo_score_sp2en,homo_score_cvt],\n",
    "                        'completeness_score':[comp_score_ori,comp_score_sp2en,comp_score_cvt],\n",
    "                       'v_measure_score':[v_score_ori,v_score_sp2en,v_score_cvt],\n",
    "                        'mean v_measure_score':[mean_v_ori,mean_v_sp2en,mean_v_cvt]},\n",
    "                  index = ['original user input','after translation','after converting purposes and replaced mode'])\n",
    "cutoff_df"
   ]
  },
  {
   "cell_type": "markdown",
   "id": "wrapped-rebate",
   "metadata": {},
   "source": [
    "#### homogeneity_score"
   ]
  },
  {
   "cell_type": "code",
   "execution_count": null,
   "id": "suburban-insertion",
   "metadata": {},
   "outputs": [],
   "source": [
    "homo_df = pd.DataFrame(data={'original user input':homo_score_ori,'after translation':homo_score_sp2en,\n",
    "                             'after converting purposes and replaced mode':homo_score_cvt}, \n",
    "                           index=['user1','user2','user3','user4','user5','user6','user7','user8',\n",
    "                                  'user9','user10','user11','user12','user13'])"
   ]
  },
  {
   "cell_type": "code",
   "execution_count": null,
   "id": "everyday-conditioning",
   "metadata": {},
   "outputs": [],
   "source": [
    "homo_df.plot(kind = 'bar',title='homogeneity_score',yticks=(0,0.1,0.2,0.3,0.4,0.5,0.6,0.7,0.8,0.9,1))"
   ]
  },
  {
   "cell_type": "markdown",
   "id": "engaged-injury",
   "metadata": {},
   "source": [
    "#### completeness_score"
   ]
  },
  {
   "cell_type": "code",
   "execution_count": null,
   "id": "mighty-consolidation",
   "metadata": {},
   "outputs": [],
   "source": [
    "comp_df = pd.DataFrame(data={'original user input':comp_score_ori,'after translation':comp_score_sp2en,\n",
    "                             'after converting purposes and replaced mode':comp_score_cvt},\n",
    "                      index=['user1','user2','user3','user4','user5','user6','user7','user8',\n",
    "                                  'user9','user10','user11','user12','user13'])"
   ]
  },
  {
   "cell_type": "code",
   "execution_count": null,
   "id": "christian-revelation",
   "metadata": {},
   "outputs": [],
   "source": [
    "comp_df.plot(kind = 'bar',title='completeness_score',yticks=(0,0.1,0.2,0.3,0.4,0.5,0.6,0.7,0.8,0.9,1))"
   ]
  },
  {
   "cell_type": "markdown",
   "id": "lovely-particle",
   "metadata": {},
   "source": [
    "#### v_measure_score"
   ]
  },
  {
   "cell_type": "code",
   "execution_count": null,
   "id": "documented-perfume",
   "metadata": {},
   "outputs": [],
   "source": [
    "v_df = pd.DataFrame(data={'original user input':v_score_ori,'after translation':v_score_sp2en,\n",
    "                          'after converting purposes and replaced mode':v_score_cvt},\n",
    "                   index=['user1','user2','user3','user4','user5','user6','user7','user8',\n",
    "                                  'user9','user10','user11','user12','user13'])"
   ]
  },
  {
   "cell_type": "code",
   "execution_count": null,
   "id": "published-kruger",
   "metadata": {},
   "outputs": [],
   "source": [
    "v_df.plot(kind = 'bar',title='v_measure_score',yticks=(0,0.1,0.2,0.3,0.4,0.5,0.6,0.7,0.8,0.9,1))"
   ]
  },
  {
   "cell_type": "markdown",
   "id": "large-cement",
   "metadata": {},
   "source": [
    "## All bins"
   ]
  },
  {
   "cell_type": "markdown",
   "id": "wrapped-channels",
   "metadata": {},
   "source": [
    "### Original user input"
   ]
  },
  {
   "cell_type": "code",
   "execution_count": null,
   "id": "assigned-pearl",
   "metadata": {},
   "outputs": [],
   "source": [
    "ab_homo_score_ori, ab_comp_score_ori, ab_v_score_ori = evaluation.v_measure_bins(all_users,radius)"
   ]
  },
  {
   "cell_type": "code",
   "execution_count": null,
   "id": "rotary-macro",
   "metadata": {},
   "outputs": [],
   "source": [
    "ab_mean_v_ori=round(mean([x for x in ab_v_score_ori if str(x) != 'nan']),3)"
   ]
  },
  {
   "cell_type": "markdown",
   "id": "communist-harvard",
   "metadata": {},
   "source": [
    "### After changing language"
   ]
  },
  {
   "cell_type": "code",
   "execution_count": null,
   "id": "median-speed",
   "metadata": {},
   "outputs": [],
   "source": [
    "ab_homo_score_sp2en, ab_comp_score_sp2en, ab_v_score_sp2en = evaluation.v_measure_bins(all_users,radius,sp2en=True)"
   ]
  },
  {
   "cell_type": "code",
   "execution_count": null,
   "id": "present-installation",
   "metadata": {},
   "outputs": [],
   "source": [
    "ab_mean_v_sp2en=round(mean([x for x in ab_v_score_sp2en if str(x) != 'nan']),3)"
   ]
  },
  {
   "cell_type": "markdown",
   "id": "armed-former",
   "metadata": {},
   "source": [
    "### After converting purposes and replaced mode"
   ]
  },
  {
   "cell_type": "code",
   "execution_count": null,
   "id": "august-maintenance",
   "metadata": {},
   "outputs": [],
   "source": [
    "ab_homo_score_cvt, ab_comp_score_cvt, ab_v_score_cvt = evaluation.v_measure_bins(all_users,radius,cvt_pur_mo=True)"
   ]
  },
  {
   "cell_type": "code",
   "execution_count": null,
   "id": "shaped-strip",
   "metadata": {},
   "outputs": [],
   "source": [
    "ab_mean_v_cvt=round(mean([x for x in ab_v_score_cvt if str(x) != 'nan']),3)"
   ]
  },
  {
   "cell_type": "markdown",
   "id": "gentle-plenty",
   "metadata": {},
   "source": [
    "### DataFrame"
   ]
  },
  {
   "cell_type": "code",
   "execution_count": null,
   "id": "architectural-perspective",
   "metadata": {},
   "outputs": [],
   "source": [
    "all_df = pd.DataFrame(data={'homogeneity_score':[ab_homo_score_ori,ab_homo_score_sp2en,ab_homo_score_cvt],\n",
    "                        'completeness_score':[ab_comp_score_ori,ab_comp_score_sp2en,ab_comp_score_cvt],\n",
    "                       'v_measure_score':[ab_v_score_ori,ab_v_score_sp2en,ab_v_score_cvt],\n",
    "                        'mean v_measure_score':[ab_mean_v_ori,ab_mean_v_sp2en,ab_mean_v_cvt]},\n",
    "                  index = ['original user input','after translation','after converting purposes and replaced mode'])\n",
    "all_df"
   ]
  },
  {
   "cell_type": "markdown",
   "id": "periodic-password",
   "metadata": {},
   "source": [
    "#### homogeneity_score"
   ]
  },
  {
   "cell_type": "code",
   "execution_count": null,
   "id": "theoretical-oliver",
   "metadata": {},
   "outputs": [],
   "source": [
    "ab_homo_df=pd.DataFrame(data={'original user input':ab_homo_score_ori,'after translation':ab_homo_score_sp2en,\n",
    "                              'after converting purposes and replaced mode':ab_homo_score_cvt},\n",
    "                        index=['user1','user2','user3','user4','user5','user6','user7','user8',\n",
    "                               'user9','user10','user11','user12','user13'])"
   ]
  },
  {
   "cell_type": "code",
   "execution_count": null,
   "id": "seasonal-coalition",
   "metadata": {},
   "outputs": [],
   "source": [
    "ab_homo_df.plot(kind = 'bar',title='homogeneity_score',yticks=(0,0.1,0.2,0.3,0.4,0.5,0.6,0.7,0.8,0.9,1))"
   ]
  },
  {
   "cell_type": "markdown",
   "id": "outdoor-pavilion",
   "metadata": {},
   "source": [
    "#### completeness_score"
   ]
  },
  {
   "cell_type": "code",
   "execution_count": null,
   "id": "activated-schedule",
   "metadata": {},
   "outputs": [],
   "source": [
    "ab_comp_df = pd.DataFrame(data={'original user input':ab_comp_score_ori,'after translation':ab_comp_score_sp2en,\n",
    "                                'after converting purposes and replaced mode':ab_comp_score_cvt},\n",
    "                          index=['user1','user2','user3','user4','user5','user6','user7','user8',\n",
    "                                 'user9','user10','user11','user12','user13'])"
   ]
  },
  {
   "cell_type": "code",
   "execution_count": null,
   "id": "graphic-revision",
   "metadata": {},
   "outputs": [],
   "source": [
    "ab_comp_df.plot(kind = 'bar',title='completeness_score',yticks=(0,0.1,0.2,0.3,0.4,0.5,0.6,0.7,0.8,0.9,1))"
   ]
  },
  {
   "cell_type": "markdown",
   "id": "golden-philadelphia",
   "metadata": {},
   "source": [
    "#### v_measure_score"
   ]
  },
  {
   "cell_type": "code",
   "execution_count": null,
   "id": "relevant-nebraska",
   "metadata": {},
   "outputs": [],
   "source": [
    "ab_v_df = pd.DataFrame(data={'original user input':ab_v_score_ori,'after translation':ab_v_score_sp2en,\n",
    "                             'after converting purposes and replaced mode':ab_v_score_cvt},\n",
    "                       index=['user1','user2','user3','user4','user5','user6','user7','user8',\n",
    "                              'user9','user10','user11','user12','user13'])"
   ]
  },
  {
   "cell_type": "code",
   "execution_count": null,
   "id": "assisted-franchise",
   "metadata": {},
   "outputs": [],
   "source": [
    "ab_v_df.plot(kind = 'bar',title='v_measure_score',yticks=(0,0.1,0.2,0.3,0.4,0.5,0.6,0.7,0.8,0.9,1))"
   ]
  }
 ],
 "metadata": {
  "kernelspec": {
   "display_name": "Python 3",
   "language": "python",
   "name": "python3"
  },
  "language_info": {
   "codemirror_mode": {
    "name": "ipython",
    "version": 3
   },
   "file_extension": ".py",
   "mimetype": "text/x-python",
   "name": "python",
   "nbconvert_exporter": "python",
   "pygments_lexer": "ipython3",
   "version": "3.7.9"
  }
 },
 "nbformat": 4,
 "nbformat_minor": 5
}
