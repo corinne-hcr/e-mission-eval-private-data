{
 "cells": [
  {
   "cell_type": "code",
   "execution_count": null,
   "id": "authorized-subdivision",
   "metadata": {},
   "outputs": [],
   "source": [
    "import logging\n",
    "\n",
    "# Our imports\n",
    "import emission.core.get_database as edb\n",
    "import emission.analysis.modelling.tour_model.cluster_pipeline as pipeline\n",
    "import emission.analysis.modelling.tour_model.similarity as similarity\n",
    "import emission.analysis.modelling.tour_model.featurization as featurization\n",
    "import emission.analysis.modelling.tour_model.representatives as representatives\n",
    "import emission.storage.decorations.analysis_timeseries_queries as esda"
   ]
  },
  {
   "cell_type": "code",
   "execution_count": null,
   "id": "declared-porcelain",
   "metadata": {},
   "outputs": [],
   "source": [
    "#read the data from the database. We get confirmed trips here\n",
    "def read_data(uuid=None):\n",
    "    trips = esda.get_entries(esda.CONFIRMED_TRIP_KEY, uuid,\n",
    "                             time_query=None, geo_query=None)\n",
    "    logging.info(\"After reading data, returning %s trips\" % len(trips))\n",
    "    return trips"
   ]
  },
  {
   "cell_type": "code",
   "execution_count": null,
   "id": "choice-hormone",
   "metadata": {},
   "outputs": [],
   "source": [
    "logger = logging.getLogger()\n",
    "logger.setLevel(logging.DEBUG)"
   ]
  },
  {
   "cell_type": "code",
   "execution_count": null,
   "id": "experienced-wireless",
   "metadata": {},
   "outputs": [],
   "source": [
    "participant_uuid_obj = list(edb.get_profile_db().find({\"install_group\": \"participant\"}, {\"user_id\": 1, \"_id\": 0}))\n",
    "all_users = [u[\"user_id\"] for u in participant_uuid_obj]"
   ]
  },
  {
   "cell_type": "code",
   "execution_count": null,
   "id": "thirty-midnight",
   "metadata": {},
   "outputs": [],
   "source": [
    "user = all_users[1]"
   ]
  },
  {
   "cell_type": "code",
   "execution_count": null,
   "id": "wrong-spanking",
   "metadata": {},
   "outputs": [],
   "source": [
    "radius = 300"
   ]
  },
  {
   "cell_type": "code",
   "execution_count": null,
   "id": "packed-weight",
   "metadata": {
    "scrolled": false
   },
   "outputs": [],
   "source": [
    "trips = read_data(uuid=user)"
   ]
  },
  {
   "cell_type": "code",
   "execution_count": null,
   "id": "departmental-article",
   "metadata": {},
   "outputs": [],
   "source": [
    "print(len(trips))"
   ]
  },
  {
   "cell_type": "code",
   "execution_count": null,
   "id": "floating-morning",
   "metadata": {},
   "outputs": [],
   "source": [
    "non_empty_trips = [t for t in trips if t[\"data\"][\"user_input\"] != {}]"
   ]
  },
  {
   "cell_type": "code",
   "execution_count": null,
   "id": "attended-earthquake",
   "metadata": {},
   "outputs": [],
   "source": [
    "len(non_empty_trips), non_empty_trips"
   ]
  },
  {
   "cell_type": "code",
   "execution_count": null,
   "id": "centered-particle",
   "metadata": {},
   "outputs": [],
   "source": [
    "sim = similarity.similarity(trips,radius)\n",
    "sim"
   ]
  },
  {
   "cell_type": "code",
   "execution_count": null,
   "id": "senior-halifax",
   "metadata": {},
   "outputs": [],
   "source": [
    "print(len(sim.data))"
   ]
  },
  {
   "cell_type": "code",
   "execution_count": null,
   "id": "generic-brighton",
   "metadata": {},
   "outputs": [],
   "source": [
    "print(sim.data)"
   ]
  },
  {
   "cell_type": "code",
   "execution_count": null,
   "id": "aging-volume",
   "metadata": {
    "scrolled": true
   },
   "outputs": [],
   "source": [
    "for i in range (len(sim.data)):\n",
    "    user_input = sim.data[i].data[\"user_input\"]\n",
    "    if user_input != None:\n",
    "        print(user_input,i)"
   ]
  }
 ],
 "metadata": {
  "kernelspec": {
   "display_name": "Python 3",
   "language": "python",
   "name": "python3"
  },
  "language_info": {
   "codemirror_mode": {
    "name": "ipython",
    "version": 3
   },
   "file_extension": ".py",
   "mimetype": "text/x-python",
   "name": "python",
   "nbconvert_exporter": "python",
   "pygments_lexer": "ipython3",
   "version": "3.7.9"
  }
 },
 "nbformat": 4,
 "nbformat_minor": 5
}
