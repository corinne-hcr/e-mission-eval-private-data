{
 "cells": [
  {
   "cell_type": "code",
   "execution_count": null,
   "id": "bigger-footwear",
   "metadata": {},
   "outputs": [],
   "source": [
    "import matplotlib\n",
    "import matplotlib.pyplot as plt\n",
    "import numpy\n",
    "import emission.core.get_database as edb"
   ]
  },
  {
   "cell_type": "code",
   "execution_count": null,
   "id": "capable-telling",
   "metadata": {},
   "outputs": [],
   "source": [
    "# copied from emission/analysis/modelling/tour_model/similarity.py\n",
    "# by shankari on 26 Jan 2020\n",
    "#create the histogram\n",
    "def graph(self):\n",
    "    matplotlib.use('Agg')\n",
    "    bars = [0] * len(self.bins)\n",
    "    for i in range(len(self.bins)):\n",
    "        bars[i] = len(self.bins[i])\n",
    "    N = len(bars)\n",
    "    index = numpy.arange(N)\n",
    "    width = .2\n",
    "#     fig = plt.figure()\n",
    "    plt.bar(index+width, bars, color='k')\n",
    "    try:\n",
    "        plt.bar(self.num+width, bars[self.num], color='r')\n",
    "    except Exception as e:\n",
    "        # log an error on any exception instead of ignoring it silently\n",
    "        print(\"Got error %s while plotting \" % e)\n",
    "    plt.vlines(self.num, 0, max(bars))\n",
    "    plt.xlim([0, N])\n",
    "    plt.xlabel('Bins',fontsize=30)\n",
    "    plt.ylabel('Number of elements',fontsize=30)\n",
    "    plt.xticks(fontsize=30)\n",
    "    plt.yticks(fontsize=30)\n",
    "#     return fig"
   ]
  },
  {
   "cell_type": "code",
   "execution_count": null,
   "id": "casual-affair",
   "metadata": {
    "scrolled": true
   },
   "outputs": [],
   "source": [
    "import emission.storage.timeseries.abstract_timeseries as esta"
   ]
  },
  {
   "cell_type": "code",
   "execution_count": null,
   "id": "essential-squad",
   "metadata": {},
   "outputs": [],
   "source": [
    "# copied from the model_stage\n",
    "# long_term_uuid_list = esta.TimeSeries.get_uuid_list()\n",
    "# We select participants from real data to be users at this time\n",
    "participant_uuid_obj = list(edb.get_profile_db().find({\"install_group\": \"participant\"}, {\"user_id\": 1, \"_id\": 0}))\n",
    "all_users = [u[\"user_id\"] for u in participant_uuid_obj]"
   ]
  },
  {
   "cell_type": "code",
   "execution_count": null,
   "id": "australian-legislature",
   "metadata": {},
   "outputs": [],
   "source": [
    "# we should really plot this for all the uuids, but let's start with one at a time\n",
    "first_uuid = all_users[0]"
   ]
  },
  {
   "cell_type": "code",
   "execution_count": null,
   "id": "selective-barbados",
   "metadata": {},
   "outputs": [],
   "source": [
    "import emission.analysis.modelling.tour_model.cluster_pipeline as eamtc"
   ]
  },
  {
   "cell_type": "code",
   "execution_count": null,
   "id": "behind-equivalent",
   "metadata": {},
   "outputs": [],
   "source": [
    "data = eamtc.read_data(first_uuid)"
   ]
  },
  {
   "cell_type": "code",
   "execution_count": null,
   "id": "latter-dealing",
   "metadata": {},
   "outputs": [],
   "source": [
    "# we should experiment with different values here\n",
    "radius = 300"
   ]
  },
  {
   "cell_type": "code",
   "execution_count": null,
   "id": "polyphonic-irish",
   "metadata": {},
   "outputs": [],
   "source": [
    "import emission.analysis.modelling.tour_model.similarity as similarity"
   ]
  },
  {
   "cell_type": "code",
   "execution_count": null,
   "id": "tracked-chassis",
   "metadata": {},
   "outputs": [],
   "source": [
    "sim = similarity.similarity(data, radius)"
   ]
  },
  {
   "cell_type": "code",
   "execution_count": null,
   "id": "photographic-plain",
   "metadata": {},
   "outputs": [],
   "source": [
    "sim.bin_data()"
   ]
  },
  {
   "cell_type": "code",
   "execution_count": null,
   "id": "comprehensive-handle",
   "metadata": {},
   "outputs": [],
   "source": [
    "sim.calc_cutoff_bins()"
   ]
  },
  {
   "cell_type": "code",
   "execution_count": null,
   "id": "great-leeds",
   "metadata": {
    "scrolled": true
   },
   "outputs": [],
   "source": [
    "graph(sim)\n"
   ]
  },
  {
   "cell_type": "code",
   "execution_count": null,
   "id": "naked-appraisal",
   "metadata": {},
   "outputs": [],
   "source": [
    "fig=plt.figure(figsize = (50,30))\n",
    "n = len(all_users)\n",
    "for i in range(n):\n",
    "    plt.subplot((n/2+1),2,i+1)\n",
    "    data = eamtc.read_data(all_users[i])\n",
    "    sim = similarity.similarity(data, radius)\n",
    "    sim.bin_data()\n",
    "    sim.calc_cutoff_bins()\n",
    "    fig.subplots_adjust(left=0.125,bottom=0.1,right=0.9,top=4,hspace=0.4, wspace=0.4)\n",
    "    graph(sim)\n",
    "fig"
   ]
  }
 ],
 "metadata": {
  "kernelspec": {
   "display_name": "Python 3",
   "language": "python",
   "name": "python3"
  },
  "language_info": {
   "codemirror_mode": {
    "name": "ipython",
    "version": 3
   },
   "file_extension": ".py",
   "mimetype": "text/x-python",
   "name": "python",
   "nbconvert_exporter": "python",
   "pygments_lexer": "ipython3",
   "version": "3.7.9"
  }
 },
 "nbformat": 4,
 "nbformat_minor": 5
}
