{
 "cells": [
  {
   "cell_type": "code",
   "execution_count": 1,
   "id": "bigger-footwear",
   "metadata": {},
   "outputs": [],
   "source": [
    "import matplotlib\n",
    "import matplotlib.pyplot as plt\n",
    "import numpy"
   ]
  },
  {
   "cell_type": "code",
   "execution_count": 2,
   "id": "capable-telling",
   "metadata": {},
   "outputs": [],
   "source": [
    "# copied from emission/analysis/modelling/tour_model/similarity.py\n",
    "# by shankari on 26 Jan 2020\n",
    "#create the histogram\n",
    "def graph(self):\n",
    "    matplotlib.use('Agg')\n",
    "    bars = [0] * len(self.bins)\n",
    "    for i in range(len(self.bins)):\n",
    "        bars[i] = len(self.bins[i])\n",
    "    N = len(bars)\n",
    "    index = numpy.arange(N)\n",
    "    width = .2\n",
    "#     fig = plt.figure()\n",
    "    plt.bar(index+width, bars, color='k')\n",
    "    try:\n",
    "        plt.bar(self.num+width, bars[self.num], color='r')\n",
    "    except Exception as e:\n",
    "        # log an error on any exception instead of ignoring it silently\n",
    "        print(\"Got error %s while plotting \" % e)\n",
    "    plt.vlines(self.num, 0, max(bars))\n",
    "    plt.xlim([0, N])\n",
    "    plt.xlabel('Bins')\n",
    "    plt.ylabel('Number of elements')\n",
    "#     return fig"
   ]
  },
  {
   "cell_type": "code",
   "execution_count": 3,
   "id": "casual-affair",
   "metadata": {
    "scrolled": true
   },
   "outputs": [],
   "source": [
    "import emission.storage.timeseries.abstract_timeseries as esta"
   ]
  },
  {
   "cell_type": "code",
   "execution_count": 4,
   "id": "essential-squad",
   "metadata": {},
   "outputs": [
    {
     "name": "stdout",
     "output_type": "stream",
     "text": [
      "storage not configured, falling back to sample, default configuration\n",
      "Connecting to database URL localhost\n"
     ]
    }
   ],
   "source": [
    "# copied from the model_stage\n",
    "long_term_uuid_list = esta.TimeSeries.get_uuid_list()"
   ]
  },
  {
   "cell_type": "code",
   "execution_count": 5,
   "id": "australian-legislature",
   "metadata": {},
   "outputs": [],
   "source": [
    "# we should really plot this for all the uuids, but let's start with one at a time\n",
    "first_uuid = long_term_uuid_list[0]"
   ]
  },
  {
   "cell_type": "code",
   "execution_count": 6,
   "id": "selective-barbados",
   "metadata": {},
   "outputs": [],
   "source": [
    "import emission.analysis.modelling.tour_model.cluster_pipeline as eamtc"
   ]
  },
  {
   "cell_type": "code",
   "execution_count": 7,
   "id": "behind-equivalent",
   "metadata": {},
   "outputs": [],
   "source": [
    "data = eamtc.read_data(first_uuid)"
   ]
  },
  {
   "cell_type": "code",
   "execution_count": 8,
   "id": "latter-dealing",
   "metadata": {},
   "outputs": [],
   "source": [
    "# we should experiment with different values here\n",
    "radius = 300"
   ]
  },
  {
   "cell_type": "code",
   "execution_count": 9,
   "id": "polyphonic-irish",
   "metadata": {},
   "outputs": [],
   "source": [
    "import emission.analysis.modelling.tour_model.similarity as similarity"
   ]
  },
  {
   "cell_type": "code",
   "execution_count": 10,
   "id": "tracked-chassis",
   "metadata": {},
   "outputs": [],
   "source": [
    "sim = similarity.similarity(data, radius)"
   ]
  },
  {
   "cell_type": "code",
   "execution_count": 11,
   "id": "photographic-plain",
   "metadata": {},
   "outputs": [],
   "source": [
    "sim.bin_data()"
   ]
  },
  {
   "cell_type": "code",
   "execution_count": 12,
   "id": "comprehensive-handle",
   "metadata": {},
   "outputs": [],
   "source": [
    "sim.calc_cutoff_bins()"
   ]
  },
  {
   "cell_type": "code",
   "execution_count": 13,
   "id": "great-leeds",
   "metadata": {
    "scrolled": true
   },
   "outputs": [],
   "source": [
    "graph(sim)\n"
   ]
  },
  {
   "cell_type": "code",
   "execution_count": 14,
   "id": "little-danish",
   "metadata": {},
   "outputs": [
    {
     "data": {
      "image/png": "[encoded data removed]",
      "text/plain": [
       "<Figure size 432x288 with 4 Axes>"
      ]
     },
     "execution_count": 14,
     "metadata": {},
     "output_type": "execute_result"
    }
   ],
   "source": [
    "fig=plt.figure(1)\n",
    "n = len(long_term_uuid_list)\n",
    "for i in range(n):\n",
    "    plt.subplot(n,n,i+1)\n",
    "    data = eamtc.read_data(long_term_uuid_list[i])\n",
    "    radius = 300\n",
    "    sim = similarity.similarity(data, radius)\n",
    "    sim.bin_data()\n",
    "    sim.calc_cutoff_bins()\n",
    "    \n",
    "    graph(sim)\n",
    "fig"
   ]
  },
  {
   "cell_type": "code",
   "execution_count": 15,
   "id": "dried-newark",
   "metadata": {
    "scrolled": true
   },
   "outputs": [],
   "source": [
    "# #second sulotion\n",
    "# fig = plt.figure()\n",
    "# for i in range(len(long_term_uuid_list)):\n",
    "#     ax = fig.add_subplot(2,2,i+1)\n",
    "#     data = eamtc.read_data(long_term_uuid_list[i])\n",
    "#     radius = 300\n",
    "#     sim = similarity.similarity(data, radius)\n",
    "#     sim.bin_data()\n",
    "#     sim.calc_cutoff_bins()\n",
    "#     graph(sim)\n",
    "\n",
    "# fig"
   ]
  }
 ],
 "metadata": {
  "kernelspec": {
   "display_name": "Python 3",
   "language": "python",
   "name": "python3"
  },
  "language_info": {
   "codemirror_mode": {
    "name": "ipython",
    "version": 3
   },
   "file_extension": ".py",
   "mimetype": "text/x-python",
   "name": "python",
   "nbconvert_exporter": "python",
   "pygments_lexer": "ipython3",
   "version": "3.7.9"
  }
 },
 "nbformat": 4,
 "nbformat_minor": 5
}
