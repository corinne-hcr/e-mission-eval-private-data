{
 "cells": [
  {
   "cell_type": "code",
   "execution_count": null,
   "id": "introductory-sunglasses",
   "metadata": {},
   "outputs": [],
   "source": [
    "import logging\n",
    "\n",
    "# Our imports\n",
    "import emission.core.get_database as edb\n",
    "import emission.analysis.modelling.tour_model.cluster_pipeline as pipeline\n",
    "import emission.analysis.modelling.tour_model.similarity as similarity\n",
    "import emission.analysis.modelling.tour_model.featurization as featurization\n",
    "import emission.analysis.modelling.tour_model.representatives as representatives\n",
    "import emission.storage.decorations.analysis_timeseries_queries as esda\n",
    "import pandas as pd\n",
    "from numpy import *\n",
    "# import confirmed_trips_eval_bins_clusters as evaluation\n",
    "from sklearn import metrics"
   ]
  },
  {
   "cell_type": "code",
   "execution_count": null,
   "id": "under-sample",
   "metadata": {},
   "outputs": [],
   "source": [
    "logger = logging.getLogger()\n",
    "logger.setLevel(logging.DEBUG)"
   ]
  },
  {
   "cell_type": "code",
   "execution_count": null,
   "id": "genetic-drinking",
   "metadata": {},
   "outputs": [],
   "source": [
    "participant_uuid_obj = list(edb.get_profile_db().find({\"install_group\": \"participant\"}, {\"user_id\": 1, \"_id\": 0}))\n",
    "all_users = [u[\"user_id\"] for u in participant_uuid_obj]"
   ]
  },
  {
   "cell_type": "code",
   "execution_count": null,
   "id": "rubber-montgomery",
   "metadata": {},
   "outputs": [],
   "source": [
    "radius = 300"
   ]
  },
  {
   "cell_type": "markdown",
   "id": "thorough-nomination",
   "metadata": {},
   "source": [
    "## Choose one user for experiment"
   ]
  },
  {
   "cell_type": "code",
   "execution_count": null,
   "id": "revolutionary-sussex",
   "metadata": {},
   "outputs": [],
   "source": [
    "user = all_users[4]"
   ]
  },
  {
   "cell_type": "code",
   "execution_count": null,
   "id": "crude-compatibility",
   "metadata": {},
   "outputs": [],
   "source": [
    "#read the data from the database. We choose key='confirmed_trip' to get confirmed trips here\n",
    "trips = pipeline.read_data(uuid=user,key=esda.CONFIRMED_TRIP_KEY)"
   ]
  },
  {
   "cell_type": "code",
   "execution_count": null,
   "id": "right-graham",
   "metadata": {},
   "outputs": [],
   "source": [
    "# select trips that have user_input to analyze\n",
    "non_empty_trips = [t for t in trips if t[\"data\"][\"user_input\"] != {}]"
   ]
  },
  {
   "cell_type": "code",
   "execution_count": null,
   "id": "infrared-accordance",
   "metadata": {},
   "outputs": [],
   "source": [
    "len(non_empty_trips), non_empty_trips"
   ]
  },
  {
   "cell_type": "code",
   "execution_count": null,
   "id": "generic-glasgow",
   "metadata": {},
   "outputs": [],
   "source": [
    "bin_trips, bins = pipeline.remove_noise(non_empty_trips, radius)"
   ]
  },
  {
   "cell_type": "code",
   "execution_count": null,
   "id": "thick-commissioner",
   "metadata": {},
   "outputs": [],
   "source": [
    "logging.debug('The list of bins is %s' % bins)"
   ]
  },
  {
   "cell_type": "code",
   "execution_count": null,
   "id": "macro-round",
   "metadata": {},
   "outputs": [],
   "source": [
    "# show all user labels in all bins\n",
    "for bin in bins:\n",
    "    bin_user_input = (non_empty_trips[i].data[\"user_input\"] for i in bin)\n",
    "    bin_df = pd.DataFrame(data = bin_user_input)\n",
    "    print(bin_df)"
   ]
  },
  {
   "cell_type": "code",
   "execution_count": null,
   "id": "tired-athens",
   "metadata": {},
   "outputs": [],
   "source": [
    "# turn all user_input into list without binning\n",
    "bin_trips_user_input_ls = pd.DataFrame(data=[bin_trips[i][\"data\"][\"user_input\"] for i in range(len(bin_trips))]).values.tolist()\n",
    "bin_trips_user_input_ls"
   ]
  },
  {
   "cell_type": "code",
   "execution_count": null,
   "id": "veterinary-courage",
   "metadata": {},
   "outputs": [],
   "source": [
    "for i in bin_trips_user_input_ls:\n",
    "    if i[2] == \"same_mode\":\n",
    "        print(i)"
   ]
  },
  {
   "cell_type": "code",
   "execution_count": null,
   "id": "coastal-fiction",
   "metadata": {},
   "outputs": [],
   "source": [
    "# drop duplicate user_input\n",
    "no_dup_df=pd.DataFrame(data=[bin_trips[i][\"data\"][\"user_input\"] for i in range(len(bin_trips))]).drop_duplicates()\n",
    "no_dup_df"
   ]
  },
  {
   "cell_type": "code",
   "execution_count": null,
   "id": "stainless-ancient",
   "metadata": {},
   "outputs": [],
   "source": [
    "# turn non-duplicate user_input into list\n",
    "no_dup_list = no_dup_df.values.tolist()\n",
    "no_dup_list"
   ]
  },
  {
   "cell_type": "code",
   "execution_count": null,
   "id": "narrative-reducing",
   "metadata": {},
   "outputs": [],
   "source": [
    "# collect labels_true based on user_input\n",
    "labels_true =[]\n",
    "for trip in bin_trips_user_input_ls:\n",
    "    if trip in no_dup_list:\n",
    "        labels_true.append(no_dup_list.index(trip))\n",
    "labels_true"
   ]
  },
  {
   "cell_type": "code",
   "execution_count": null,
   "id": "framed-sector",
   "metadata": {},
   "outputs": [],
   "source": [
    "# collect labels_pred based on bins\n",
    "labels_pred = []\n",
    "for i in range(len(bins)):\n",
    "    for trip in bins[i]:\n",
    "        labels_pred.append(i)\n",
    "labels_pred"
   ]
  },
  {
   "cell_type": "code",
   "execution_count": null,
   "id": "unlimited-waste",
   "metadata": {},
   "outputs": [],
   "source": [
    "metrics.homogeneity_score(labels_true, labels_pred)"
   ]
  },
  {
   "cell_type": "code",
   "execution_count": null,
   "id": "grateful-finance",
   "metadata": {},
   "outputs": [],
   "source": [
    "metrics.completeness_score(labels_true, labels_pred)"
   ]
  },
  {
   "cell_type": "code",
   "execution_count": null,
   "id": "removable-rating",
   "metadata": {},
   "outputs": [],
   "source": [
    "metrics.v_measure_score(labels_true, labels_pred)"
   ]
  }
 ],
 "metadata": {
  "kernelspec": {
   "display_name": "Python 3",
   "language": "python",
   "name": "python3"
  },
  "language_info": {
   "codemirror_mode": {
    "name": "ipython",
    "version": 3
   },
   "file_extension": ".py",
   "mimetype": "text/x-python",
   "name": "python",
   "nbconvert_exporter": "python",
   "pygments_lexer": "ipython3",
   "version": "3.7.9"
  }
 },
 "nbformat": 4,
 "nbformat_minor": 5
}
