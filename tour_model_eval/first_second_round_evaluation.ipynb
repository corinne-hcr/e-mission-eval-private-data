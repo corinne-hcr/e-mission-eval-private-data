{
 "cells": [
  {
   "cell_type": "markdown",
   "id": "horizontal-transsexual",
   "metadata": {},
   "source": [
    "## This notebook is to show the evaluation (scatter plot) of two rounds of clustering"
   ]
  },
  {
   "cell_type": "code",
   "execution_count": null,
   "id": "mighty-ukraine",
   "metadata": {},
   "outputs": [],
   "source": [
    "import emission.core.get_database as edb\n",
    "import emission.analysis.modelling.tour_model.get_users as gu\n",
    "import emission.analysis.modelling.tour_model.load_predict as predict\n",
    "import matplotlib.pyplot as plt\n",
    "import emission.analysis.modelling.tour_model.get_plot as plot"
   ]
  },
  {
   "cell_type": "code",
   "execution_count": null,
   "id": "cathedral-pointer",
   "metadata": {},
   "outputs": [],
   "source": [
    "participant_uuid_obj = list(edb.get_profile_db().find({\"install_group\": \"participant\"}, {\"user_id\": 1, \"_id\": 0}))\n",
    "all_users = [u[\"user_id\"] for u in participant_uuid_obj]"
   ]
  },
  {
   "cell_type": "code",
   "execution_count": null,
   "id": "exotic-livestock",
   "metadata": {},
   "outputs": [],
   "source": [
    "radius = 100"
   ]
  },
  {
   "cell_type": "code",
   "execution_count": null,
   "id": "following-fundamentals",
   "metadata": {},
   "outputs": [],
   "source": [
    "# get all/valid user list\n",
    "user_ls, valid_users = gu.get_user_ls(all_users, radius)\n",
    "# get all filenames of clustering result\n",
    "collect_filename = predict.loadModelStage(\"collect_filename\")"
   ]
  },
  {
   "cell_type": "markdown",
   "id": "square-mozambique",
   "metadata": {},
   "source": [
    "### Get scatter plot from the 1st round of clustering"
   ]
  },
  {
   "cell_type": "code",
   "execution_count": null,
   "id": "desperate-classroom",
   "metadata": {},
   "outputs": [],
   "source": [
    "plt.figure()\n",
    "plot.get_scatter(valid_users, collect_filename, first_round=True, second_round=False)"
   ]
  },
  {
   "cell_type": "markdown",
   "id": "lyric-dialogue",
   "metadata": {},
   "source": [
    "### Get scatter plot from the 2nd round of clustering"
   ]
  },
  {
   "cell_type": "code",
   "execution_count": null,
   "id": "likely-webster",
   "metadata": {},
   "outputs": [],
   "source": [
    "plt.figure()\n",
    "plot.get_scatter(valid_users, collect_filename, first_round=False, second_round=True)"
   ]
  }
 ],
 "metadata": {
  "kernelspec": {
   "display_name": "Python 3",
   "language": "python",
   "name": "python3"
  },
  "language_info": {
   "codemirror_mode": {
    "name": "ipython",
    "version": 3
   },
   "file_extension": ".py",
   "mimetype": "text/x-python",
   "name": "python",
   "nbconvert_exporter": "python",
   "pygments_lexer": "ipython3",
   "version": "3.7.9"
  }
 },
 "nbformat": 4,
 "nbformat_minor": 5
}
