{
 "cells": [
  {
   "cell_type": "markdown",
   "id": "banned-speaking",
   "metadata": {},
   "source": [
    "## Test run time for bins and clusters on all data"
   ]
  },
  {
   "cell_type": "code",
   "execution_count": null,
   "id": "sticky-morocco",
   "metadata": {},
   "outputs": [],
   "source": [
    "import matplotlib\n",
    "import matplotlib.pyplot as plt\n",
    "import numpy\n",
    "import emission.core.get_database as edb\n",
    "import logging\n",
    "import folium\n",
    "import math\n",
    "import branca.colormap as cm\n",
    "import emission.storage.timeseries.abstract_timeseries as esta\n",
    "import emission.analysis.modelling.tour_model.cluster_pipeline as eamtc\n",
    "import emission.analysis.modelling.tour_model.similarity as similarity\n",
    "import emission.analysis.modelling.tour_model.cluster_pipeline as pipeline\n",
    "import emission.analysis.modelling.tour_model.featurization as featurization\n",
    "import viz_bin_cluster as viz"
   ]
  },
  {
   "cell_type": "code",
   "execution_count": null,
   "id": "lined-incidence",
   "metadata": {},
   "outputs": [],
   "source": [
    "participant_uuid_obj = list(edb.get_profile_db().find({\"install_group\": \"participant\"}, {\"user_id\": 1, \"_id\": 0}))\n",
    "all_users = [u[\"user_id\"] for u in participant_uuid_obj]"
   ]
  },
  {
   "cell_type": "code",
   "execution_count": null,
   "id": "lyric-evans",
   "metadata": {},
   "outputs": [],
   "source": [
    "radius = 300"
   ]
  },
  {
   "cell_type": "markdown",
   "id": "coastal-gabriel",
   "metadata": {},
   "source": [
    "### Run time for bins"
   ]
  },
  {
   "cell_type": "code",
   "execution_count": null,
   "id": "pressed-stanley",
   "metadata": {},
   "outputs": [],
   "source": [
    "for i in range (len(all_users)):\n",
    "    if i == 11:\n",
    "        continue\n",
    "    user = all_users[i]\n",
    "    trips = pipeline.read_data(uuid=user)\n",
    "    sim = similarity.similarity(trips, radius)\n",
    "    %timeit sim.bin_data()"
   ]
  },
  {
   "cell_type": "markdown",
   "id": "english-scoop",
   "metadata": {},
   "source": [
    "### Run time for clusters"
   ]
  },
  {
   "cell_type": "code",
   "execution_count": null,
   "id": "straight-insurance",
   "metadata": {},
   "outputs": [],
   "source": [
    "for i in range (len(all_users)):\n",
    "    if i == 11:\n",
    "        continue\n",
    "    user = all_users[i]\n",
    "    trips = pipeline.read_data(uuid=user)\n",
    "    sim = similarity.similarity(trips, radius)\n",
    "    sim.bin_data()\n",
    "    feat = featurization.featurization(trips)\n",
    "    min = 0\n",
    "    max = int(math.ceil(1.5 * len(sim.bins)))\n",
    "    %timeit feat.cluster(min_clusters=min, max_clusters=max)"
   ]
  }
 ],
 "metadata": {
  "kernelspec": {
   "display_name": "Python 3",
   "language": "python",
   "name": "python3"
  },
  "language_info": {
   "codemirror_mode": {
    "name": "ipython",
    "version": 3
   },
   "file_extension": ".py",
   "mimetype": "text/x-python",
   "name": "python",
   "nbconvert_exporter": "python",
   "pygments_lexer": "ipython3",
   "version": "3.7.9"
  }
 },
 "nbformat": 4,
 "nbformat_minor": 5
}
