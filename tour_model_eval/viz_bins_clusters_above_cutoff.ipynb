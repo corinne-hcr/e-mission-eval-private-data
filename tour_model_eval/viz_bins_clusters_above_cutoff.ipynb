{
 "cells": [
  {
   "cell_type": "code",
   "execution_count": null,
   "id": "contemporary-bennett",
   "metadata": {
    "scrolled": true
   },
   "outputs": [],
   "source": [
    "import matplotlib\n",
    "import matplotlib.pyplot as plt\n",
    "import numpy\n",
    "import emission.core.get_database as edb\n",
    "import logging\n",
    "import folium\n",
    "import math\n",
    "import branca.colormap as cm\n",
    "import emission.storage.timeseries.abstract_timeseries as esta\n",
    "import emission.analysis.modelling.tour_model.cluster_pipeline as eamtc\n",
    "import emission.analysis.modelling.tour_model.similarity as similarity\n",
    "import emission.analysis.modelling.tour_model.cluster_pipeline as pipeline\n",
    "import emission.analysis.modelling.tour_model.featurization as featurization\n",
    "import viz_bin_cluster as viz"
   ]
  },
  {
   "cell_type": "code",
   "execution_count": null,
   "id": "minus-norfolk",
   "metadata": {},
   "outputs": [],
   "source": [
    "logger = logging.getLogger()\n",
    "logger.setLevel(logging.DEBUG)"
   ]
  },
  {
   "cell_type": "code",
   "execution_count": null,
   "id": "configured-tobacco",
   "metadata": {},
   "outputs": [],
   "source": [
    "# copied from mode_purpose_share.ipynb\n",
    "# We select participants from real data to be users at this time\n",
    "participant_uuid_obj = list(edb.get_profile_db().find({\"install_group\": \"participant\"}, {\"user_id\": 1, \"_id\": 0}))\n",
    "all_users = [u[\"user_id\"] for u in participant_uuid_obj]"
   ]
  },
  {
   "cell_type": "code",
   "execution_count": null,
   "id": "informative-mitchell",
   "metadata": {},
   "outputs": [],
   "source": [
    "logging.debug('There are %s users, we will plot the graphs for one of them' % len(all_users))\n",
    "\n",
    "user = all_users[1]"
   ]
  },
  {
   "cell_type": "code",
   "execution_count": null,
   "id": "particular-inspector",
   "metadata": {},
   "outputs": [],
   "source": [
    "# we should experiment with different values here\n",
    "radius = 300"
   ]
  },
  {
   "cell_type": "code",
   "execution_count": null,
   "id": "dangerous-galaxy",
   "metadata": {},
   "outputs": [],
   "source": [
    "trips = pipeline.read_data(uuid=user)"
   ]
  },
  {
   "cell_type": "markdown",
   "id": "empirical-projector",
   "metadata": {},
   "source": [
    "## Visualizing trips from bins above cutoff"
   ]
  },
  {
   "cell_type": "code",
   "execution_count": null,
   "id": "dangerous-broadcast",
   "metadata": {},
   "outputs": [],
   "source": [
    "bin_trips, bins = pipeline.remove_noise(trips, radius)"
   ]
  },
  {
   "cell_type": "code",
   "execution_count": null,
   "id": "little-squad",
   "metadata": {},
   "outputs": [],
   "source": [
    "logging.debug('The list of bins is %s' % bins)"
   ]
  },
  {
   "cell_type": "code",
   "execution_count": null,
   "id": "mexican-intermediate",
   "metadata": {},
   "outputs": [],
   "source": [
    "viz.bins_map(bins,trips)"
   ]
  },
  {
   "cell_type": "markdown",
   "id": "altered-battery",
   "metadata": {},
   "source": [
    "## Visualizing clusters above cutoff"
   ]
  },
  {
   "cell_type": "markdown",
   "id": "played-gabriel",
   "metadata": {},
   "source": [
    "Note: should run \"Trips from bins above the cutoff only\" first"
   ]
  },
  {
   "cell_type": "code",
   "execution_count": null,
   "id": "frozen-modern",
   "metadata": {},
   "outputs": [],
   "source": [
    "# copied from the cluster pipeline code so we can work with the featurization code directly\n",
    "# min clusters set to 0 instead of len(bins), to compare with the bins\n",
    "feat = featurization.featurization(bin_trips)\n",
    "min = 0\n",
    "max = int(math.ceil(1.5 * len(bins)))\n",
    "feat.cluster(min_clusters=min, max_clusters=max)"
   ]
  },
  {
   "cell_type": "code",
   "execution_count": null,
   "id": "verbal-multimedia",
   "metadata": {},
   "outputs": [],
   "source": [
    "logging.debug('number of clusters: %d' % feat.clusters)"
   ]
  },
  {
   "cell_type": "code",
   "execution_count": null,
   "id": "coated-homeless",
   "metadata": {},
   "outputs": [],
   "source": [
    "viz.clusters_map(feat.labels,feat.points,feat.clusters)"
   ]
  },
  {
   "cell_type": "markdown",
   "id": "architectural-caution",
   "metadata": {},
   "source": [
    "## Visualizing the difference between bins and clusters above cutoff "
   ]
  },
  {
   "cell_type": "code",
   "execution_count": null,
   "id": "eleven-pearl",
   "metadata": {},
   "outputs": [],
   "source": [
    "# We use user11 as an example\n",
    "user = all_users[10]\n",
    "trips = pipeline.read_data(uuid=user)"
   ]
  },
  {
   "cell_type": "markdown",
   "id": "forty-oakland",
   "metadata": {},
   "source": [
    "### Trips from filtered bins"
   ]
  },
  {
   "cell_type": "code",
   "execution_count": null,
   "id": "armed-jones",
   "metadata": {},
   "outputs": [],
   "source": [
    "bin_trips, bins = pipeline.remove_noise(trips, radius)\n",
    "logging.debug('The list of bins is %s' % bins)"
   ]
  },
  {
   "cell_type": "code",
   "execution_count": null,
   "id": "junior-execution",
   "metadata": {
    "scrolled": false
   },
   "outputs": [],
   "source": [
    "# Should choose a specific bin in viz_bin_cluster.py\n",
    "viz.specific_bin_map(bins,trips)"
   ]
  },
  {
   "cell_type": "markdown",
   "id": "thick-bubble",
   "metadata": {},
   "source": [
    "### Trips in clusters"
   ]
  },
  {
   "cell_type": "code",
   "execution_count": null,
   "id": "introductory-dublin",
   "metadata": {},
   "outputs": [],
   "source": [
    "feat = featurization.featurization(bin_trips)\n",
    "min = 0\n",
    "max = int(math.ceil(1.5 * len(bins)))\n",
    "feat.cluster(min_clusters=min, max_clusters=max)\n",
    "logging.debug('number of clusters: %d' % feat.clusters)"
   ]
  },
  {
   "cell_type": "code",
   "execution_count": null,
   "id": "strategic-zambia",
   "metadata": {
    "scrolled": false
   },
   "outputs": [],
   "source": [
    "# Should choose a specific cluster in viz_bin_cluster.py\n",
    "viz.specific_cluster_map(feat.labels,feat.points,feat.clusters)"
   ]
  },
  {
   "cell_type": "markdown",
   "id": "ranking-payroll",
   "metadata": {},
   "source": [
    "## Data collection"
   ]
  },
  {
   "cell_type": "code",
   "execution_count": null,
   "id": "appropriate-glass",
   "metadata": {},
   "outputs": [],
   "source": [
    "import pandas as pd"
   ]
  },
  {
   "cell_type": "code",
   "execution_count": null,
   "id": "freelance-greensboro",
   "metadata": {},
   "outputs": [],
   "source": [
    "# user12 is not typical, so we filter it out"
   ]
  },
  {
   "cell_type": "code",
   "execution_count": null,
   "id": "recent-anatomy",
   "metadata": {},
   "outputs": [],
   "source": [
    "above_cutoff_bins = []\n",
    "for i in range (len(all_users)):\n",
    "    if i == 11:\n",
    "        continue\n",
    "    user = all_users[i]\n",
    "    trips = pipeline.read_data(uuid=user)\n",
    "    bin_trips, bins = pipeline.remove_noise(trips, radius)\n",
    "    above_cutoff_bins.append(len(bins))\n",
    "above_cutoff_bins"
   ]
  },
  {
   "cell_type": "code",
   "execution_count": null,
   "id": "mathematical-texas",
   "metadata": {},
   "outputs": [],
   "source": [
    "above_cutoff_clusters = []\n",
    "for i in range (len(all_users)):\n",
    "    if i == 11:\n",
    "        continue\n",
    "    user = all_users[i]\n",
    "    trips = pipeline.read_data(uuid=user)\n",
    "    bin_trips, bins = pipeline.remove_noise(trips, radius)\n",
    "    feat = featurization.featurization(bin_trips)\n",
    "    min = 0\n",
    "    max = int(math.ceil(1.5 * len(bins)))\n",
    "    feat.cluster(min_clusters=min, max_clusters=max)\n",
    "    above_cutoff_clusters.append(feat.clusters)\n",
    "above_cutoff_clusters"
   ]
  },
  {
   "cell_type": "code",
   "execution_count": null,
   "id": "spare-worst",
   "metadata": {},
   "outputs": [],
   "source": [
    "user_index = ['user1','user2','user3','user4','user5','user6','user7','user8','user9','user10','user11','user13']"
   ]
  },
  {
   "cell_type": "code",
   "execution_count": null,
   "id": "simplified-trail",
   "metadata": {},
   "outputs": [],
   "source": [
    "cutoff_data = {'above cutoff bins':[i for i in above_cutoff_bins],'above cutoff clusters':[i for i in above_cutoff_clusters]}"
   ]
  },
  {
   "cell_type": "code",
   "execution_count": null,
   "id": "significant-lunch",
   "metadata": {},
   "outputs": [],
   "source": [
    "df_cutoff = pd.DataFrame(data = cutoff_data, index = user_index)\n",
    "df_cutoff"
   ]
  },
  {
   "cell_type": "code",
   "execution_count": null,
   "id": "distinct-isolation",
   "metadata": {},
   "outputs": [],
   "source": [
    "df_cutoff.plot(kind = 'bar')"
   ]
  }
 ],
 "metadata": {
  "kernelspec": {
   "display_name": "Python 3",
   "language": "python",
   "name": "python3"
  },
  "language_info": {
   "codemirror_mode": {
    "name": "ipython",
    "version": 3
   },
   "file_extension": ".py",
   "mimetype": "text/x-python",
   "name": "python",
   "nbconvert_exporter": "python",
   "pygments_lexer": "ipython3",
   "version": "3.7.9"
  }
 },
 "nbformat": 4,
 "nbformat_minor": 5
}
